{
 "cells": [
  {
   "cell_type": "markdown",
   "metadata": {},
   "source": [
    "# 读取数据"
   ]
  },
  {
   "cell_type": "code",
   "execution_count": 163,
   "metadata": {},
   "outputs": [
    {
     "name": "stdout",
     "output_type": "stream",
     "text": [
      "(45955, 8)\n"
     ]
    },
    {
     "data": {
      "text/html": [
       "<div>\n",
       "<style>\n",
       "    .dataframe thead tr:only-child th {\n",
       "        text-align: right;\n",
       "    }\n",
       "\n",
       "    .dataframe thead th {\n",
       "        text-align: left;\n",
       "    }\n",
       "\n",
       "    .dataframe tbody tr th {\n",
       "        vertical-align: top;\n",
       "    }\n",
       "</style>\n",
       "<table border=\"1\" class=\"dataframe\">\n",
       "  <thead>\n",
       "    <tr style=\"text-align: right;\">\n",
       "      <th></th>\n",
       "      <th>stationId</th>\n",
       "      <th>utc_time</th>\n",
       "      <th>PM2.5</th>\n",
       "      <th>PM10</th>\n",
       "      <th>NO2</th>\n",
       "      <th>CO</th>\n",
       "      <th>O3</th>\n",
       "      <th>SO2</th>\n",
       "    </tr>\n",
       "  </thead>\n",
       "  <tbody>\n",
       "    <tr>\n",
       "      <th>45950</th>\n",
       "      <td>qianmen_aq</td>\n",
       "      <td>2018-05-28 23:00:00</td>\n",
       "      <td>20.0</td>\n",
       "      <td>20.0</td>\n",
       "      <td>76.0</td>\n",
       "      <td>0.5</td>\n",
       "      <td>13.0</td>\n",
       "      <td>2.0</td>\n",
       "    </tr>\n",
       "    <tr>\n",
       "      <th>45951</th>\n",
       "      <td>yongdingmennei_aq</td>\n",
       "      <td>2018-05-28 23:00:00</td>\n",
       "      <td>18.0</td>\n",
       "      <td>75.0</td>\n",
       "      <td>83.0</td>\n",
       "      <td>0.7</td>\n",
       "      <td>4.0</td>\n",
       "      <td>5.0</td>\n",
       "    </tr>\n",
       "    <tr>\n",
       "      <th>45952</th>\n",
       "      <td>xizhimenbei_aq</td>\n",
       "      <td>2018-05-28 23:00:00</td>\n",
       "      <td>14.0</td>\n",
       "      <td>41.0</td>\n",
       "      <td>81.0</td>\n",
       "      <td>0.4</td>\n",
       "      <td>9.0</td>\n",
       "      <td>3.0</td>\n",
       "    </tr>\n",
       "    <tr>\n",
       "      <th>45953</th>\n",
       "      <td>nansanhuan_aq</td>\n",
       "      <td>2018-05-28 23:00:00</td>\n",
       "      <td>20.0</td>\n",
       "      <td>145.0</td>\n",
       "      <td>86.0</td>\n",
       "      <td>0.7</td>\n",
       "      <td>2.0</td>\n",
       "      <td>9.0</td>\n",
       "    </tr>\n",
       "    <tr>\n",
       "      <th>45954</th>\n",
       "      <td>dongsihuan_aq</td>\n",
       "      <td>2018-05-28 23:00:00</td>\n",
       "      <td>45.0</td>\n",
       "      <td>101.0</td>\n",
       "      <td>92.0</td>\n",
       "      <td>0.7</td>\n",
       "      <td>2.0</td>\n",
       "      <td>12.0</td>\n",
       "    </tr>\n",
       "  </tbody>\n",
       "</table>\n",
       "</div>"
      ],
      "text/plain": [
       "               stationId             utc_time  PM2.5   PM10   NO2   CO    O3  \\\n",
       "45950         qianmen_aq  2018-05-28 23:00:00   20.0   20.0  76.0  0.5  13.0   \n",
       "45951  yongdingmennei_aq  2018-05-28 23:00:00   18.0   75.0  83.0  0.7   4.0   \n",
       "45952     xizhimenbei_aq  2018-05-28 23:00:00   14.0   41.0  81.0  0.4   9.0   \n",
       "45953      nansanhuan_aq  2018-05-28 23:00:00   20.0  145.0  86.0  0.7   2.0   \n",
       "45954      dongsihuan_aq  2018-05-28 23:00:00   45.0  101.0  92.0  0.7   2.0   \n",
       "\n",
       "        SO2  \n",
       "45950   2.0  \n",
       "45951   5.0  \n",
       "45952   3.0  \n",
       "45953   9.0  \n",
       "45954  12.0  "
      ]
     },
     "execution_count": 163,
     "metadata": {},
     "output_type": "execute_result"
    }
   ],
   "source": [
    "import pandas as pd\n",
    "import numpy as np\n",
    "from tqdm import tqdm\n",
    "\n",
    "base_path = '/home/liyouru/.ipython/profile_myserver/dataset/KDD_Cup2018/'\n",
    "bp_bj_meo = base_path + 'bj_meo_gen/'\n",
    "bp_ld_meo = base_path + 'ld_meo_gen/'\n",
    "bp_bj_aq_split = base_path + 'bj_aq_split/'\n",
    "bp_ld_aq_split = base_path + 'ld_aq_split/'\n",
    "\n",
    "p_bj_aq1 = base_path + 'beijing_17_18_aq_full.csv'\n",
    "p_bj_aq2 = base_path + 'beijing_201802_201803_aq_full.csv'\n",
    "p_bj_aq3 = base_path + 'daily_data/bj_aq/m_04_58.csv'\n",
    "p_bj_stp = base_path + 'bj_station_position.csv'\n",
    "\n",
    "p_ld_aq1 = base_path + 'London_17_18_aq_full.csv'\n",
    "p_ld_aq2 = base_path + 'daily_data/ld_aq/m_04_58.csv'\n",
    "p_ld_stp = base_path + 'london_station_position.csv'\n",
    "\n",
    "# df_bj_aq1 = pd.read_csv(p_bj_aq1)\n",
    "# df_bj_aq2 = pd.read_csv(p_bj_aq2)\n",
    "df_bj_aq3 = pd.read_csv(p_bj_aq3)\n",
    "df_bj_stp = pd.read_csv(p_bj_stp)\n",
    "\n",
    "# df_ld_aq1 = pd.read_csv(p_ld_aq1)\n",
    "df_ld_aq2 = pd.read_csv(p_ld_aq2)\n",
    "df_ld_stp = pd.read_csv(p_ld_stp)\n",
    "\n",
    "# df_bj_aq = df_bj_aq1.append(df_bj_aq2)\n",
    "# df_bj_aq = df_bj_aq.append(df_bj_aq3)\n",
    "df_bj_aq = df_bj_aq3\n",
    "del df_bj_aq['Unnamed: 0']\n",
    "print df_bj_aq.shape\n",
    "df_bj_aq.tail()"
   ]
  },
  {
   "cell_type": "code",
   "execution_count": 164,
   "metadata": {},
   "outputs": [
    {
     "name": "stdout",
     "output_type": "stream",
     "text": [
      "(18035, 5)\n"
     ]
    },
    {
     "data": {
      "text/html": [
       "<div>\n",
       "<style>\n",
       "    .dataframe thead tr:only-child th {\n",
       "        text-align: right;\n",
       "    }\n",
       "\n",
       "    .dataframe thead th {\n",
       "        text-align: left;\n",
       "    }\n",
       "\n",
       "    .dataframe tbody tr th {\n",
       "        vertical-align: top;\n",
       "    }\n",
       "</style>\n",
       "<table border=\"1\" class=\"dataframe\">\n",
       "  <thead>\n",
       "    <tr style=\"text-align: right;\">\n",
       "      <th></th>\n",
       "      <th>station_id</th>\n",
       "      <th>MeasurementDateGMT</th>\n",
       "      <th>PM2.5 (ug/m3)</th>\n",
       "      <th>PM10 (ug/m3)</th>\n",
       "      <th>NO2 (ug/m3)</th>\n",
       "    </tr>\n",
       "  </thead>\n",
       "  <tbody>\n",
       "    <tr>\n",
       "      <th>18030</th>\n",
       "      <td>MY7</td>\n",
       "      <td>2018-05-28 19:00:00</td>\n",
       "      <td>26.7</td>\n",
       "      <td>34.2</td>\n",
       "      <td>39.6</td>\n",
       "    </tr>\n",
       "    <tr>\n",
       "      <th>18031</th>\n",
       "      <td>MY7</td>\n",
       "      <td>2018-05-28 20:00:00</td>\n",
       "      <td>23.7</td>\n",
       "      <td>27.6</td>\n",
       "      <td>32.5</td>\n",
       "    </tr>\n",
       "    <tr>\n",
       "      <th>18032</th>\n",
       "      <td>MY7</td>\n",
       "      <td>2018-05-28 21:00:00</td>\n",
       "      <td>23.3</td>\n",
       "      <td>27.3</td>\n",
       "      <td>36.7</td>\n",
       "    </tr>\n",
       "    <tr>\n",
       "      <th>18033</th>\n",
       "      <td>MY7</td>\n",
       "      <td>2018-05-28 22:00:00</td>\n",
       "      <td>23.1</td>\n",
       "      <td>25.4</td>\n",
       "      <td>31.0</td>\n",
       "    </tr>\n",
       "    <tr>\n",
       "      <th>18034</th>\n",
       "      <td>MY7</td>\n",
       "      <td>2018-05-28 23:00:00</td>\n",
       "      <td>28.9</td>\n",
       "      <td>27.9</td>\n",
       "      <td>23.7</td>\n",
       "    </tr>\n",
       "  </tbody>\n",
       "</table>\n",
       "</div>"
      ],
      "text/plain": [
       "      station_id   MeasurementDateGMT  PM2.5 (ug/m3)  PM10 (ug/m3)  \\\n",
       "18030        MY7  2018-05-28 19:00:00           26.7          34.2   \n",
       "18031        MY7  2018-05-28 20:00:00           23.7          27.6   \n",
       "18032        MY7  2018-05-28 21:00:00           23.3          27.3   \n",
       "18033        MY7  2018-05-28 22:00:00           23.1          25.4   \n",
       "18034        MY7  2018-05-28 23:00:00           28.9          27.9   \n",
       "\n",
       "       NO2 (ug/m3)  \n",
       "18030         39.6  \n",
       "18031         32.5  \n",
       "18032         36.7  \n",
       "18033         31.0  \n",
       "18034         23.7  "
      ]
     },
     "execution_count": 164,
     "metadata": {},
     "output_type": "execute_result"
    }
   ],
   "source": [
    "del df_ld_aq2['Unnamed: 0']\n",
    "df_ld_aq2.columns = ['station_id','MeasurementDateGMT','PM2.5 (ug/m3)','PM10 (ug/m3)','NO2 (ug/m3)']\n",
    "# df_ld_aq = df_ld_aq1.append(df_ld_aq2)\n",
    "df_ld_aq = df_ld_aq2\n",
    "# del df_ld_aq['Unnamed: 0']\n",
    "print df_ld_aq.shape\n",
    "df_ld_aq.tail()"
   ]
  },
  {
   "cell_type": "markdown",
   "metadata": {},
   "source": [
    "# 按观测点划分北京空气质量数据"
   ]
  },
  {
   "cell_type": "code",
   "execution_count": 165,
   "metadata": {},
   "outputs": [
    {
     "name": "stderr",
     "output_type": "stream",
     "text": [
      "100%|██████████| 35/35 [00:00<00:00, 178.99it/s]\n"
     ]
    }
   ],
   "source": [
    "stationId = list(df_bj_stp['stationId'])\n",
    "\n",
    "bj_aq_split = []\n",
    "bj_aq = df_bj_aq.groupby([\"stationId\"])\n",
    "\n",
    "for i in range(35):\n",
    "    bj_aq_split.append(bj_aq.get_group(stationId[i]))\n",
    "\n",
    "for i in tqdm(range(35)):\n",
    "    bj_aq_split[i].to_csv(bp_bj_aq_split + 's_bj_17_18_aq_split_' + str(stationId[i].split('_aq')[0]) + '.csv')"
   ]
  },
  {
   "cell_type": "markdown",
   "metadata": {},
   "source": [
    "# 按观测点划分伦敦空气质量数据"
   ]
  },
  {
   "cell_type": "code",
   "execution_count": 166,
   "metadata": {},
   "outputs": [
    {
     "name": "stderr",
     "output_type": "stream",
     "text": [
      "100%|██████████| 13/13 [00:00<00:00, 299.94it/s]\n"
     ]
    }
   ],
   "source": [
    "station_Id = list(df_ld_stp['Station_id'])\n",
    "\n",
    "ld_aq_split = []\n",
    "ld_aq = df_ld_aq.groupby([\"station_id\"])\n",
    "\n",
    "for i in range(13):\n",
    "    ld_aq_split.append(ld_aq.get_group(station_Id[i]))\n",
    "\n",
    "for i in tqdm(range(13)):\n",
    "    ld_aq_split[i].to_csv(bp_ld_aq_split + 's_ld_17_18_aq_split_' + str(station_Id[i]) + '.csv')"
   ]
  }
 ],
 "metadata": {
  "kernelspec": {
   "display_name": "Python 2",
   "language": "python",
   "name": "python2"
  },
  "language_info": {
   "codemirror_mode": {
    "name": "ipython",
    "version": 2
   },
   "file_extension": ".py",
   "mimetype": "text/x-python",
   "name": "python",
   "nbconvert_exporter": "python",
   "pygments_lexer": "ipython2",
   "version": "2.7.12"
  }
 },
 "nbformat": 4,
 "nbformat_minor": 2
}
