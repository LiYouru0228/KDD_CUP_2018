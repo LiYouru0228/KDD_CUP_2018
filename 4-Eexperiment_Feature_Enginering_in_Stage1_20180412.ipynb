{
 "cells": [
  {
   "cell_type": "markdown",
   "metadata": {},
   "source": [
    "# 数据读取"
   ]
  },
  {
   "cell_type": "code",
   "execution_count": 1,
   "metadata": {},
   "outputs": [
    {
     "name": "stderr",
     "output_type": "stream",
     "text": [
      "/home/liyouru/virtual_tf1.3_python2.7/local/lib/python2.7/site-packages/sklearn/cross_validation.py:41: DeprecationWarning: This module was deprecated in version 0.18 in favor of the model_selection module into which all the refactored classes and functions are moved. Also note that the interface of the new CV iterators are different from that of this module. This module will be removed in 0.20.\n",
      "  \"This module will be removed in 0.20.\", DeprecationWarning)\n"
     ]
    }
   ],
   "source": [
    "import pandas as pd\n",
    "import numpy as np\n",
    "from datetime import datetime \n",
    "from sklearn.preprocessing import MinMaxScaler\n",
    "from sklearn.preprocessing import LabelEncoder,OneHotEncoder\n",
    "from tqdm import tqdm\n",
    "from numpy import concatenate\n",
    "from pandas import DataFrame\n",
    "from pandas import concat\n",
    "import xgboost as xgb\n",
    "import lightgbm as lgb\n",
    "from sklearn.ensemble import GradientBoostingRegressor,RandomForestRegressor\n",
    "from __future__ import division  \n",
    "from sklearn.metrics import mean_absolute_error,mean_squared_error\n",
    "import requests\n",
    "import matplotlib.pyplot as plt"
   ]
  },
  {
   "cell_type": "code",
   "execution_count": 2,
   "metadata": {
    "collapsed": true
   },
   "outputs": [],
   "source": [
    "base_path = '/home/liyouru/.ipython/profile_myserver/dataset/KDD_Cup2018/'\n",
    "p_bj_aq = base_path + 'bj_aq_split/' + 'bj_17_18_aq_split_'\n",
    "p_bj_meo = base_path + 'bj_meo_gen/' + 'beijing_17_18_meo_gen_'\n",
    "n_p_bj_meo = base_path + 'bj_meo_gen/' + 'n_beijing_17_18_meo_gen_'\n",
    "p_ld_aq = base_path + 'ld_aq_split/' + 'ld_17_18_aq_split_'\n",
    "p_ld_meo = base_path + 'ld_meo_gen/' + 'london_17_18_meo_gen_'\n",
    "n_p_ld_meo = base_path + 'ld_meo_gen/' + 'n_london_17_18_meo_gen_'\n",
    "p_index = base_path + 'station_list.csv'\n",
    "\n",
    "df_index = pd.read_csv(p_index)\n",
    "bj_index = list(df_index['beijing'])\n",
    "ld_index = list(df_index['london'])[:13]"
   ]
  },
  {
   "cell_type": "markdown",
   "metadata": {},
   "source": [
    "# 基本特征提取合并"
   ]
  },
  {
   "cell_type": "markdown",
   "metadata": {},
   "source": [
    "* 北京"
   ]
  },
  {
   "cell_type": "code",
   "execution_count": 3,
   "metadata": {
    "collapsed": true
   },
   "outputs": [],
   "source": [
    "def get_intersection(a,b):\n",
    "    return list(set(a).intersection(set(b)))  \n",
    "    \n",
    "def get_aq_feature(df,time_list):\n",
    "    t_feature = [[],[],[],[],[],[]]\n",
    "    for each in df.iterrows():\n",
    "        if each[1]['utc_time'] in time_list:\n",
    "            t_feature[0].append(each[1]['PM2.5'])\n",
    "            t_feature[1].append(each[1]['PM10'])\n",
    "            t_feature[2].append(each[1]['NO2'])\n",
    "            t_feature[3].append(each[1]['CO'])\n",
    "            t_feature[4].append(each[1]['O3'])\n",
    "            t_feature[5].append(each[1]['SO2'])\n",
    "    return t_feature\n",
    "\n",
    "def get_meo_feature(df,time_list):\n",
    "    t_feature = [[],[],[],[],[]]\n",
    "    for each in df.iterrows():\n",
    "        if each[1]['utc_time'] in time_list:\n",
    "            t_feature[0].append(each[1]['temperature'])\n",
    "            t_feature[1].append(each[1]['pressure'])\n",
    "            t_feature[2].append(each[1]['humidity'])\n",
    "            t_feature[3].append(each[1]['wind_direction'])\n",
    "            t_feature[4].append(each[1]['wind_speed/kph'])\n",
    "    return t_feature\n",
    "\n",
    "def get_time_feature(df,time_list):\n",
    "    t_feature = [[],[]]\n",
    "    for each in df.iterrows():\n",
    "        if each[1]['utc_time'] in time_list:\n",
    "            # 周末时段\n",
    "            t_feature[0].append(datetime.strptime(each[1]['utc_time'][:10], '%Y-%m-%d').weekday())\n",
    "            # 高峰时段\n",
    "            if each[1]['utc_time'][11:13] in ['00','01','02','09','10','11']:\n",
    "                t_feature[1].append(1)\n",
    "            else:\n",
    "                t_feature[1].append(0)\n",
    "    return t_feature"
   ]
  },
  {
   "cell_type": "code",
   "execution_count": 4,
   "metadata": {
    "scrolled": true
   },
   "outputs": [
    {
     "name": "stderr",
     "output_type": "stream",
     "text": [
      "100%|██████████| 35/35 [04:38<00:00,  7.96s/it]\n"
     ]
    }
   ],
   "source": [
    "for each in tqdm(bj_index):\n",
    "    t_feature = []\n",
    "    # load file\n",
    "    t_df_aq = pd.read_csv(p_bj_aq + each + '.csv')\n",
    "    del t_df_aq['Unnamed: 0']\n",
    "    t_df_aq = t_df_aq.drop_duplicates(['utc_time'])\n",
    "    t_df_meo = pd.read_csv(p_bj_meo + each + '.csv')\n",
    "    t_df_meo = t_df_meo.append(pd.read_csv(n_p_bj_meo + each + '.csv'))\n",
    "    del t_df_meo['Unnamed: 0']\n",
    "    t_df_meo = t_df_meo.drop_duplicates(['utc_time'])\n",
    "    # get time intersection index\n",
    "    t_time_index = get_intersection(list(t_df_aq['utc_time']),list(t_df_meo['utc_time']))\n",
    "    # get value and feature\n",
    "    t_feature_aq = get_aq_feature(t_df_aq,t_time_index)\n",
    "    t_feature_meo = get_meo_feature(t_df_meo,t_time_index)\n",
    "    t_feature_time = get_time_feature(t_df_meo,t_time_index)\n",
    "    t_feature = t_feature_aq\n",
    "    t_feature.extend(t_feature_meo)\n",
    "    t_feature.extend(t_feature_time)\n",
    "    # feature to csv\n",
    "    t_col_index = ['PM2.5', 'PM10', 'NO2', 'CO', 'O3', 'SO2','temperature', 'pressure', 'humidity','wind_direction', 'wind_speed/kph','weekday','rush_time']\n",
    "    t_gen_df = DataFrame(np.transpose(t_feature) ,index = None, columns = t_col_index)\n",
    "    t_gen_df.to_csv(base_path + 'bj_feature_s1/'+ each +'_base.csv')"
   ]
  },
  {
   "cell_type": "markdown",
   "metadata": {},
   "source": [
    "* 伦敦"
   ]
  },
  {
   "cell_type": "code",
   "execution_count": 5,
   "metadata": {
    "collapsed": true
   },
   "outputs": [],
   "source": [
    "def get_aq_feature_ld(df,time_list):\n",
    "    t_feature = [[],[],[]]\n",
    "    for each in df.iterrows():\n",
    "        if time_format(each[1]['MeasurementDateGMT']) in time_list:\n",
    "            t_feature[0].append(each[1]['PM2.5 (ug/m3)'])\n",
    "            t_feature[1].append(each[1]['PM10 (ug/m3)'])\n",
    "            t_feature[2].append(each[1]['NO2 (ug/m3)'])\n",
    "    return t_feature\n",
    "\n",
    "def get_meo_feature_ld(df,time_list):\n",
    "    t_feature = [[],[],[],[],[]]\n",
    "    for each in df.iterrows():\n",
    "        if each[1]['utc_time'] in time_list:\n",
    "            t_feature[0].append(each[1]['temperature'])\n",
    "            t_feature[1].append(each[1]['pressure'])\n",
    "            t_feature[2].append(each[1]['humidity'])\n",
    "            t_feature[3].append(each[1]['wind_direction'])\n",
    "            t_feature[4].append(each[1]['wind_speed/kph'])\n",
    "    return t_feature\n",
    "\n",
    "def get_time_feature_ld(df,time_list):\n",
    "    t_feature = [[],[]]\n",
    "    for each in df.iterrows():\n",
    "        time = time_format(each[1]['utc_time'])\n",
    "        if time in time_list:\n",
    "            # 周末时段\n",
    "            t_feature[0].append(datetime.strptime(time[:10], '%Y-%m-%d').weekday())\n",
    "            # 高峰时段\n",
    "            if time[11:13] in ['08','09','10','17','18','19']:\n",
    "                t_feature[1].append(1)\n",
    "            else:\n",
    "                t_feature[1].append(0)\n",
    "    return t_feature\n",
    "\n",
    "def time_format(t_str):\n",
    "    if len(t_str) != 19:\n",
    "        time = datetime.strptime(t_str, '%Y/%m/%d %H:%M')\n",
    "        n_t = time.strftime('%Y-%m-%d %H:%M:%S')\n",
    "    else:\n",
    "        n_t = t_str\n",
    "    return n_t\n",
    "\n",
    "def time_list_format_trans(t_list):\n",
    "    time = []\n",
    "    for each in t_list:\n",
    "        time.append(time_format(each))\n",
    "    return time"
   ]
  },
  {
   "cell_type": "code",
   "execution_count": 6,
   "metadata": {},
   "outputs": [
    {
     "name": "stderr",
     "output_type": "stream",
     "text": [
      "100%|██████████| 13/13 [01:47<00:00,  8.29s/it]\n"
     ]
    }
   ],
   "source": [
    "for each in tqdm(ld_index):\n",
    "    t_feature = []\n",
    "    # load file\n",
    "    t_df_aq = pd.read_csv(p_ld_aq + each + '.csv')\n",
    "    del t_df_aq['Unnamed: 0']\n",
    "    t_df_aq = t_df_aq.drop_duplicates(['MeasurementDateGMT'])\n",
    "    t_df_meo = pd.read_csv(p_ld_meo + each + '.csv')\n",
    "    t_df_meo = t_df_meo.append(pd.read_csv(n_p_ld_meo + each + '.csv'))\n",
    "    del t_df_meo['Unnamed: 0']\n",
    "    t_df_meo = t_df_meo.drop_duplicates(['utc_time'])\n",
    "    # get time intersection index\n",
    "    t_time_index = get_intersection(time_list_format_trans(list(t_df_aq['MeasurementDateGMT'])),list(t_df_meo['utc_time']))\n",
    "    # get value and feature\n",
    "    t_feature_aq = get_aq_feature_ld(t_df_aq,t_time_index)\n",
    "    t_feature_meo = get_meo_feature_ld(t_df_meo,t_time_index)\n",
    "    t_feature_time = get_time_feature_ld(t_df_meo,t_time_index)\n",
    "    t_feature = t_feature_aq\n",
    "    t_feature.extend(t_feature_meo)\n",
    "    t_feature.extend(t_feature_time)\n",
    "    # feature to csv\n",
    "    t_col_index = ['PM2.5', 'PM10', 'NO2','temperature', 'pressure', 'humidity', 'wind_direction','wind_speed/kph','weekday','rush_time']\n",
    "    t_gen_df = DataFrame(np.transpose(t_feature) ,index = None, columns = t_col_index)\n",
    "    t_gen_df.to_csv(base_path + 'ld_feature_s1/'+ each +'_base.csv')"
   ]
  },
  {
   "cell_type": "markdown",
   "metadata": {},
   "source": [
    "# 滑动窗口特征提取"
   ]
  },
  {
   "cell_type": "code",
   "execution_count": 7,
   "metadata": {
    "collapsed": true
   },
   "outputs": [],
   "source": [
    "def get_bin_feature(agg,city,n_bin,n_in):\n",
    "# 抽取历史窗口空气质量统计特征\n",
    "    if city == 0:\n",
    "        n_aq = 3\n",
    "    else:\n",
    "        n_aq = 6\n",
    "        \n",
    "    sta_feature = []\n",
    "    for i in range(n_aq * 7):\n",
    "        sta_feature.append([])\n",
    "    # aq in df to list\n",
    "    df_aq = []\n",
    "    for i in range(n_aq):\n",
    "        for j in range(n_in-n_bin,n_in):\n",
    "            df_aq.append(list(agg['var'+str(i + 1)+'(t-'+str(j + 1)+')']))\n",
    "    # get statistics feature for each aq in historcal windows\n",
    "    aq = []\n",
    "    for i in range(n_aq * 7):\n",
    "        aq.append([])\n",
    "        # sample dimention\n",
    "    for i in tqdm(range(agg.shape[0])):\n",
    "        aq = []\n",
    "            # aq type numbers\n",
    "        for j in range(n_aq):\n",
    "            aq.append([])\n",
    "            for k in range(j * n_bin,(j + 1) * n_bin):\n",
    "                if np.isnan(df_aq[k][i]):\n",
    "                    aq[j].append(0)\n",
    "                else:\n",
    "                    aq[j].append(df_aq[k][i])\n",
    "            sta_feature[7 * j].append(statistics.mean(aq[j]))\n",
    "            sta_feature[7 * j + 1].append(statistics.median(aq[j]))\n",
    "            sta_feature[7 * j + 2].append(statistics.variance(aq[j]))\n",
    "            sta_feature[7 * j + 3].append(statistics.stdev(aq[j]))\n",
    "            sta_feature[7 * j + 4].append(max(aq[j]))\n",
    "            sta_feature[7 * j + 5].append(min(aq[j]))\n",
    "            sta_feature[7 * j + 6].append(max(aq[j]) - min(aq[j]))\n",
    "\n",
    "    insert_index = 0\n",
    "    for i in range(len(sta_feature)):\n",
    "        agg.insert(insert_index + i,'bin'+str(n_bin)+'-'+ str(i),sta_feature[i])\n",
    "    return agg"
   ]
  },
  {
   "cell_type": "code",
   "execution_count": 8,
   "metadata": {
    "collapsed": true
   },
   "outputs": [],
   "source": [
    "import statistics\n",
    "    \n",
    "# 将序列转化成监督学习问题\n",
    "# 参数：city = 1/2 aq = 1/2/3\n",
    "def series_to_supervised(data, meo, n_in = 1, n_out = 1, dropnan = True, city = 1):\n",
    "    n_vars = 1 if type(data) is list else data.shape[1]\n",
    "    df = DataFrame(data)\n",
    "    cols, names = list(), list()\n",
    "    \n",
    "    # 输入序列(t-n, ... t-1)\n",
    "    for i in range(n_in, 0, -1):\n",
    "        cols.append(df.shift(i))\n",
    "        names += [('var%d(t-%d)' % (j + 1, i)) for j in range(n_vars)]\n",
    "    \n",
    "    # 预测序列 (t, t+1, ... t+n)\n",
    "    for i in range(n_out - 1, n_out):\n",
    "        cols.append(df.shift(-i))\n",
    "        if i == 0:\n",
    "            names += [('var%d(t)' % (j + 1)) for j in range(n_vars)]\n",
    "        else:\n",
    "            names += [('var%d(t + %d)' % (j + 1, i)) for j in range(n_vars)]\n",
    "    \n",
    "    # concat输出与预测序列\n",
    "    agg = concat(cols, axis = 1)\n",
    "    agg.columns = names\n",
    "    \n",
    "    # 清除value窗口除目标变量外字段\n",
    "    drop_index = []\n",
    "    if city == 1:\n",
    "        index = [3,4,6,12,13]\n",
    "        for each in index:\n",
    "            drop_index.append('var' + str(each) + '(t + '+ str(n_out - 1)+')')\n",
    "    else:\n",
    "        index = [3,9,10]\n",
    "        for each in index:\n",
    "            drop_index.append('var' + str(each) + '(t + '+ str(n_out - 1)+')')\n",
    "    agg.drop(drop_index, axis = 1, inplace = True)\n",
    "    \n",
    "    # 清除历史窗口的气象特征\n",
    "    if city == 0:\n",
    "        for i in range(2,n_in + 1):\n",
    "            t1 = i\n",
    "            for j in range(4,8):\n",
    "                t2 = j\n",
    "                agg.drop('var'+str(t2)+'(t-'+str(t1)+')', axis = 1, inplace = True)\n",
    "    else:\n",
    "        for i in range(2,n_in + 1):\n",
    "            t1 = i\n",
    "            for j in range(7,11):\n",
    "                t2 = j\n",
    "                agg.drop('var'+str(t2)+'(t-'+str(t1)+')', axis = 1, inplace = True)\n",
    "    \n",
    "    # 加入对历史窗口的统计特征\n",
    "    bin_index = [24,48]\n",
    "    for each in bin_index:\n",
    "        agg = get_bin_feature(agg,city,each,n_in)\n",
    "        \n",
    "    # 得到测试集特征\n",
    "    test_df = agg[-48:]\n",
    "    if city == 1:\n",
    "        test_df.drop('var1' + '(t + '+ str(n_out - 1)+')',axis = 1, inplace = True)\n",
    "        test_df.drop('var2' + '(t + '+ str(n_out - 1)+')',axis = 1, inplace = True)\n",
    "        test_df.drop('var5' + '(t + '+ str(n_out - 1)+')',axis = 1, inplace = True)\n",
    "        test_df.drop('var7' + '(t + '+ str(n_out - 1)+')',axis = 1, inplace = True)\n",
    "        test_df.drop('var8' + '(t + '+ str(n_out - 1)+')',axis = 1, inplace = True)\n",
    "        test_df.drop('var9' + '(t + '+ str(n_out - 1)+')',axis = 1, inplace = True)\n",
    "        test_df.drop('var10' + '(t + '+ str(n_out - 1)+')',axis = 1, inplace = True)\n",
    "        test_df.drop('var11' + '(t + '+ str(n_out - 1)+')',axis = 1, inplace = True)\n",
    "    else:\n",
    "        test_df.drop('var1' + '(t + '+ str(n_out - 1)+')',axis = 1, inplace = True)\n",
    "        test_df.drop('var2' + '(t + '+ str(n_out - 1)+')',axis = 1, inplace = True)\n",
    "        test_df.drop('var4' + '(t + '+ str(n_out - 1)+')',axis = 1, inplace = True)\n",
    "        test_df.drop('var5' + '(t + '+ str(n_out - 1)+')',axis = 1, inplace = True)\n",
    "        test_df.drop('var6' + '(t + '+ str(n_out - 1)+')',axis = 1, inplace = True)\n",
    "        test_df.drop('var7' + '(t + '+ str(n_out - 1)+')',axis = 1, inplace = True)\n",
    "        test_df.drop('var8' + '(t + '+ str(n_out - 1)+')',axis = 1, inplace = True)\n",
    "    \n",
    "    # 链接天气预报\n",
    "    if city == 1:\n",
    "        meo.columns = ['var7(t + 71)','var8(t + 71)','var9(t + 71)','var10(t + 71)','var11(t + 71)']\n",
    "    else:\n",
    "        meo.columns = ['var4(t + 71)','var5(t + 71)','var6(t + 71)','var7(t + 71)','var8(t + 71)']\n",
    "    test_df = DataFrame(np.concatenate((test_df.values, meo.values), axis = 1))\n",
    "    \n",
    "    if dropnan:\n",
    "        agg.dropna(inplace = True)\n",
    "    \n",
    "    # 调整value在df中的顺序\n",
    "    if city == 1:\n",
    "        bj_var1 = agg['var5(t + 71)']\n",
    "        agg.drop(labels=['var5(t + 71)'], axis=1,inplace = True)\n",
    "        agg.insert(0, 'var5(t + 71)', bj_var1)\n",
    "        bj_var2 = agg['var2(t + 71)']\n",
    "        agg.drop(labels=['var2(t + 71)'], axis=1,inplace = True)\n",
    "        agg.insert(0, 'var2(t + 71)', bj_var2)\n",
    "        bj_var5 = agg['var1(t + 71)']\n",
    "        agg.drop(labels=['var1(t + 71)'], axis=1,inplace = True)\n",
    "        agg.insert(0, 'var1(t + 71)', bj_var5)\n",
    "    else:\n",
    "        ld_var1 = agg['var2(t + 71)']\n",
    "        agg.drop(labels=['var2(t + 71)'], axis=1,inplace = True)\n",
    "        agg.insert(0, 'var2(t + 71)', ld_var1)\n",
    "        ld_var2 = agg['var1(t + 71)']\n",
    "        agg.drop(labels=['var1(t + 71)'], axis=1,inplace = True)\n",
    "        agg.insert(0, 'var1(t + 71)', ld_var2)\n",
    "    \n",
    "    if city == 1:\n",
    "        test_df.columns = list(agg.columns)[3:]\n",
    "    else:\n",
    "        test_df.columns = list(agg.columns)[2:]\n",
    "    res = [agg,test_df]\n",
    "    \n",
    "    return res"
   ]
  },
  {
   "cell_type": "markdown",
   "metadata": {},
   "source": [
    "# 模型定义与误差评测"
   ]
  },
  {
   "cell_type": "code",
   "execution_count": 9,
   "metadata": {
    "collapsed": true
   },
   "outputs": [],
   "source": [
    "def train_and_predict(X,y,X_t,t_model):\n",
    "    # load data\n",
    "    train_data = X\n",
    "    train_label = y\n",
    "    print \"TRAINING SIZE:\",train_data.shape,',',train_label.shape[0]\n",
    "    \n",
    "    if t_model == 'XGB': \n",
    "        # define model\n",
    "        xg_train = xgb.DMatrix(train_data, label = train_label)\n",
    "        # param define\n",
    "        param={\n",
    "                'booster':'gbtree',\n",
    "                'objective': 'reg:linear', \n",
    "                'gamma':0,  # 用于控制是否后剪枝的参数,越大越保守，一般0.1、0.2这样子。\n",
    "                'max_depth':4, # 构建树的深度，越大越容易过拟合\n",
    "                'lambda':1,  # 控制模型复杂度的权重值的L2正则化项参数，参数越大，模型越不容易过拟合。\n",
    "                'subsample':1, # 随机采样训练样本\n",
    "                'colsample_bytree':0.5, # 生成树时进行的列采样\n",
    "                'min_child_weight':1, \n",
    "                # 这个参数默认是 1，是每个叶子里面 h 的和至少是多少，对正负样本不均衡时的 0-1 分类而言\n",
    "                #，假设 h 在 0.01 附近，min_child_weight 为 1 意味着叶子节点中最少需要包含 100 个样本。\n",
    "                #这个参数非常影响结果，控制叶子节点中二阶导的和的最小值，该参数值越小，越容易 overfitting。 \n",
    "                'silent':0 ,#设置成1则没有运行信息输出，最好是设置为0.\n",
    "                'eta': 0.1, # 如同学习率\n",
    "                'seed':1500,\n",
    "                'nthread':8,# cpu 线程数\n",
    "                'eval_metric': 'rmse'\n",
    "                }\n",
    "        param['eval_metric'] = ['rmse', 'map']\n",
    "        watchlist = [ (xg_train,'train') ]\n",
    "        #train_model\n",
    "        num_round = 1000\n",
    "        print 'XGBoost Model is Training...'\n",
    "        bst = xgb.train(param, xg_train, num_round, watchlist,verbose_eval=500)\n",
    "        # make prediction\n",
    "        xg_test = xgb.DMatrix(X_t)\n",
    "        result = bst.predict(xg_test)\n",
    "    elif t_model == 'GBRT':\n",
    "        # define model\n",
    "        GBRT = GradientBoostingRegressor(loss = 'lad', n_estimators = 200, max_depth = 4,verbose=0)\n",
    "        # data split\n",
    "        X_train, X_test, Y_train = X,X_t,y\n",
    "        # make prediction\n",
    "        print 'GBRT Model is Training...'\n",
    "        GBRT.fit(X_train,Y_train)\n",
    "        result = GBRT.predict(X_test)\n",
    "    elif t_model == 'RF':\n",
    "        # define model\n",
    "        RF = RandomForestRegressor(n_estimators = 200, max_depth = 4, n_jobs = -1 )\n",
    "        # data split\n",
    "        X_train, X_test, Y_train = X,X_t,y\n",
    "        # make prediction\n",
    "        print 'RF Model is Training...'\n",
    "        RF.fit(X_train,Y_train)\n",
    "        result = RF.predict(X_test)\n",
    "    else:\n",
    "        lgb_train = lgb.Dataset(X[:-48], y[:-48])\n",
    "        lgb_eval = lgb.Dataset(X[-48:], y[-48:], reference=lgb_train)\n",
    "        params = {\n",
    "                    'task': 'train',\n",
    "                    'boosting_type': 'gbdt',\n",
    "                    'objective': 'binary',\n",
    "                    'metric': {'l2', 'mae'},\n",
    "                    'num_leaves': 31,\n",
    "                    'learning_rate': 0.05,\n",
    "                    'feature_fraction': 0.9,\n",
    "                    'bagging_fraction': 0.8,\n",
    "                    'bagging_freq': 5,\n",
    "                    'verbose': 1\n",
    "                }\n",
    "        # train\n",
    "        gbm = lgb.train(params,lgb_train,num_boost_round=20,valid_sets=lgb_eval,early_stopping_rounds=5)\n",
    "        result = gbm.predict(X_t, num_iteration=gbm.best_iteration)\n",
    "    return list(result)\n",
    "\n",
    "def smape(actual, predicted):\n",
    "    a = np.abs(np.array(actual) - np.array(predicted))\n",
    "    b = np.array(actual) + np.array(predicted)\n",
    "    return 2 * np.mean(np.divide(a, b, out=np.zeros_like(a), where=b!=0, casting='unsafe'))"
   ]
  },
  {
   "cell_type": "markdown",
   "metadata": {},
   "source": [
    "# 站点对应空气污染物浓度预测"
   ]
  },
  {
   "cell_type": "code",
   "execution_count": 10,
   "metadata": {
    "collapsed": true
   },
   "outputs": [],
   "source": [
    "import time\n",
    "def cal_pred_each_pos(file_list,t_model,is_test,n_pred):\n",
    "    pm25,pm10,o3,aq = [],[],[],[]\n",
    "    index = [pm25,pm10,o3]\n",
    "    names = ['PM2.5', 'PM10', 'O3']\n",
    "    if len(file_list) == 35:\n",
    "        for each in file_list:\n",
    "            # load file\n",
    "            t_df = pd.read_csv(base_path + 'bj_feature_s1/'+ each +'_base.csv')\n",
    "            del t_df['Unnamed: 0']\n",
    "            # get slide feature and value\n",
    "            meo_api = pd.read_csv(base_path + 'daily_data/bj_weather/'+ each +'.csv')\n",
    "            api_df = meo_api[['temperature', 'pressure', 'humidity', 'wind_direction','wind_speed/kph']]\n",
    "            t_res = series_to_supervised(t_df.values,api_df,48,n_pred,True,1)\n",
    "            t_slide_df = t_res[0]\n",
    "            t_slide_df_test = t_res[1]\n",
    "            # split feature and value\n",
    "            t_index = list(t_slide_df.columns)\n",
    "            t_feature_index,t_value_index = t_index[3:],t_index[0:3]\n",
    "            # make prediction for each value\n",
    "            for i in range(3):\n",
    "                if is_test:\n",
    "                        t_X ,t_y = t_slide_df[t_feature_index][:-48],t_slide_df[t_value_index[i]][:-48]\n",
    "                        t_X_t,t_y_t = t_slide_df[t_feature_index][-48:],t_slide_df[t_value_index[i]][-48:]\n",
    "                        t0 = time.time()\n",
    "                        t_value = train_and_predict(t_X,t_y,t_X_t,t_model)\n",
    "                        print time.time() - t0\n",
    "                        for t in range(len(t_value)): t_value[t] = int(t_value[t])\n",
    "                        print 'STATION: ',each\n",
    "                        print 'AIR AQ TYPE:',names[i]\n",
    "                        plt.plot(list(t_y_t),'r')\n",
    "                        plt.plot(t_value,'b')\n",
    "                        plt.show()\n",
    "                        print 'SMAPE:',smape(t_y_t,t_value)\n",
    "                        print '------------------------------------'    \n",
    "                else:\n",
    "                    t_X ,t_y = t_slide_df[t_feature_index],t_slide_df[t_value_index[i]]\n",
    "                    t_X_t = t_slide_df_test[t_feature_index]\n",
    "                    t_value = train_and_predict(t_X,t_y,t_X_t,t_model)\n",
    "                    for t in range(len(t_value)): t_value[t] = int(t_value[t])\n",
    "                    index[i].append(t_value)\n",
    "                    print 'STATION: ',each\n",
    "                    print 'AIR AQ TYPE:',names[i]\n",
    "                    print 'VALUE:',t_value\n",
    "                    print '------------------------------------'  \n",
    "    else:\n",
    "        for each in file_list:\n",
    "            # load file\n",
    "            t_df = pd.read_csv(base_path + 'ld_feature_s1/'+ each +'_base.csv')\n",
    "            del t_df['Unnamed: 0']\n",
    "            # get slide feature and value\n",
    "            meo_api = pd.read_csv(base_path + 'daily_data/ld_weather/'+ each +'.csv')\n",
    "            api_df = meo_api[['temperature', 'pressure', 'humidity', 'wind_direction','wind_speed/kph']]\n",
    "            t_res = series_to_supervised(t_df.values,api_df,48,n_pred,True,0)\n",
    "            t_slide_df = t_res[0]\n",
    "            t_slide_df_test = t_res[1]\n",
    "            # split feature and value\n",
    "            t_index = list(t_slide_df.columns)\n",
    "            t_feature_index,t_value_index = t_index[2:],t_index[0:2]\n",
    "            # make prediction for each value\n",
    "            for i in range(3):\n",
    "                if i == 2:\n",
    "                    t_aq = []\n",
    "                    for j in range(48):\n",
    "                        t_aq.append(0)\n",
    "                    index[i].append(t_aq)\n",
    "                else:\n",
    "                    if is_test:\n",
    "                        t_X ,t_y = t_slide_df[t_feature_index][:-48],t_slide_df[t_value_index[i]][:-48]\n",
    "                        t_X_t,t_y_t = t_slide_df[t_feature_index][-48:],t_slide_df[t_value_index[i]][-48:]\n",
    "                        t_value = train_and_predict(t_X,t_y,t_X_t,t_model)\n",
    "                        for t in range(len(t_value)): t_value[t] = int(t_value[t])\n",
    "                        print 'STATION: ',each\n",
    "                        print 'AIR AQ TYPE:',names[i]\n",
    "                        plt.plot(list(t_y_t),'r')\n",
    "                        plt.plot(t_value,'b')\n",
    "                        plt.show()\n",
    "                        print 'SMAPE:',smape(t_y_t,t_value)\n",
    "                        print '------------------------------------'    \n",
    "                    else:\n",
    "                        t_X ,t_y = t_slide_df[t_feature_index],t_slide_df[t_value_index[i]]\n",
    "                        t_X_t = t_slide_df_test[t_feature_index]\n",
    "                        t_value = train_and_predict(t_X,t_y,t_X_t,t_model)\n",
    "                        for t in range(len(t_value)): t_value[t] = int(t_value[t])\n",
    "                        index[i].append(t_value)\n",
    "                        print 'STATION: ',each\n",
    "                        print 'AIR AQ TYPE:',names[i]\n",
    "                        print 'VALUE:',t_value\n",
    "                        print '------------------------------------'  \n",
    "    if is_test == False:            \n",
    "        # save to map\n",
    "        position2values = {}\n",
    "        for i in range(3):\n",
    "            for j in range(len(file_list)):\n",
    "                for k in range(48):\n",
    "                    if len(file_list[j]) > 10: \n",
    "                        position_name = file_list[j][:10]\n",
    "                    else: \n",
    "                        position_name = file_list[j]\n",
    "                    if len(file_list) == 35:\n",
    "                        t_key = str(names[i]) + '-' + position_name + '_aq#' + str(k)\n",
    "                    else:\n",
    "                        t_key = str(names[i]) + '-' + position_name + '#' + str(k)\n",
    "                    position2values[t_key] = index[i][j][k]\n",
    "    return  position2values"
   ]
  },
  {
   "cell_type": "markdown",
   "metadata": {},
   "source": [
    "# 模型训练与预测"
   ]
  },
  {
   "cell_type": "code",
   "execution_count": null,
   "metadata": {
    "collapsed": true
   },
   "outputs": [],
   "source": [
    "def readwrite2(input_file,output_file):\n",
    "    date_1=pd.read_csv(input_file,header=0,sep=',')\n",
    "    date_1[['test_id','PM2.5', 'PM10', 'O3']].to_csv(output_file, sep=',', header=True,index=False)\n",
    "\n",
    "def to_submit(input_path):\n",
    "    files={'files': open(input_path,'rb')}\n",
    "\n",
    "    data = {\n",
    "        \"user_id\": \"LiYouru\",   #user_id is your username which can be found on the top-right corner on our website when you logged in.\n",
    "        \"team_token\": \"e4cbc74100e5eba99a9a3857d0424cbe38da5f51ca1274c7f604093f13f0a6d6\", #your team_token.\n",
    "        \"description\": 'big(72)',  #no more than 40 chars.\n",
    "        \"filename\": \"0524->0526-27\", #your filename\n",
    "    }\n",
    "    \n",
    "    url = 'https://biendata.com/competition/kdd_2018_submit/'\n",
    "    response = requests.post(url, files=files, data=data)\n",
    "    print response.text\n",
    "    \n",
    "def get_submition(n_model,time,n_pred):\n",
    "    bj_value_map = cal_pred_each_pos(bj_index,n_model,False,n_pred)\n",
    "    ld_value_map = cal_pred_each_pos(ld_index,n_model,False,n_pred)\n",
    "    path = '/home/liyouru/.ipython/profile_myserver/dataset/KDD_Cup2018/testing_submissioin.csv'\n",
    "    id_index = list(pd.read_csv(path)['test_id'])\n",
    "    pm25,pm10,o3 = [],[],[]\n",
    "    aq_index = [pm25,pm10,o3]\n",
    "    names = ['PM2.5', 'PM10', 'O3']\n",
    "    # get prediction from map\n",
    "    for i in range(len(id_index)):\n",
    "        for j in range(3):\n",
    "            t_key = str(names[j]) + '-' + id_index[i]\n",
    "            if i < 1680:\n",
    "                aq_index[j].append(bj_value_map[t_key])\n",
    "            else:\n",
    "                aq_index[j].append(ld_value_map[t_key])\n",
    "    \n",
    "    submit_value = [id_index,pm25,pm10,o3]\n",
    "    # negtitive value detection\n",
    "    for i in range(len(id_index)):\n",
    "        if pm25[i] < 0: pm25[i] = 0\n",
    "        if pm10[i] < 0: pm10[i] = 0\n",
    "        if o3[i] < 0: o3[i] = 0\n",
    "    # save to csv     \n",
    "    submit_names = ['test_id','PM2.5', 'PM10', 'O3']\n",
    "    submit_df = DataFrame(np.transpose(submit_value) ,index = None, columns = submit_names)\n",
    "    \n",
    "    input_path = base_path + 'submittion/submissioin_05' + time + '01.csv'\n",
    "    output_path = base_path + 'submittion/submissioin_05_' + time + '_1.csv'\n",
    "    submit_df.to_csv(input_path)\n",
    "    readwrite2(input_path, output_path)\n",
    "#     to_submit(output_path)"
   ]
  },
  {
   "cell_type": "code",
   "execution_count": null,
   "metadata": {
    "scrolled": true
   },
   "outputs": [
    {
     "name": "stderr",
     "output_type": "stream",
     "text": [
      "100%|██████████| 11317/11317 [00:48<00:00, 235.33it/s]\n",
      "100%|██████████| 11317/11317 [01:19<00:00, 143.07it/s]\n",
      "/home/liyouru/virtual_tf1.3_python2.7/lib/python2.7/site-packages/ipykernel_launcher.py:61: SettingWithCopyWarning: \n",
      "A value is trying to be set on a copy of a slice from a DataFrame\n",
      "\n",
      "See the caveats in the documentation: http://pandas.pydata.org/pandas-docs/stable/indexing.html#indexing-view-versus-copy\n",
      "/home/liyouru/virtual_tf1.3_python2.7/lib/python2.7/site-packages/ipykernel_launcher.py:62: SettingWithCopyWarning: \n",
      "A value is trying to be set on a copy of a slice from a DataFrame\n",
      "\n",
      "See the caveats in the documentation: http://pandas.pydata.org/pandas-docs/stable/indexing.html#indexing-view-versus-copy\n",
      "/home/liyouru/virtual_tf1.3_python2.7/lib/python2.7/site-packages/ipykernel_launcher.py:63: SettingWithCopyWarning: \n",
      "A value is trying to be set on a copy of a slice from a DataFrame\n",
      "\n",
      "See the caveats in the documentation: http://pandas.pydata.org/pandas-docs/stable/indexing.html#indexing-view-versus-copy\n",
      "/home/liyouru/virtual_tf1.3_python2.7/lib/python2.7/site-packages/ipykernel_launcher.py:64: SettingWithCopyWarning: \n",
      "A value is trying to be set on a copy of a slice from a DataFrame\n",
      "\n",
      "See the caveats in the documentation: http://pandas.pydata.org/pandas-docs/stable/indexing.html#indexing-view-versus-copy\n",
      "/home/liyouru/virtual_tf1.3_python2.7/lib/python2.7/site-packages/ipykernel_launcher.py:65: SettingWithCopyWarning: \n",
      "A value is trying to be set on a copy of a slice from a DataFrame\n",
      "\n",
      "See the caveats in the documentation: http://pandas.pydata.org/pandas-docs/stable/indexing.html#indexing-view-versus-copy\n",
      "/home/liyouru/virtual_tf1.3_python2.7/lib/python2.7/site-packages/ipykernel_launcher.py:66: SettingWithCopyWarning: \n",
      "A value is trying to be set on a copy of a slice from a DataFrame\n",
      "\n",
      "See the caveats in the documentation: http://pandas.pydata.org/pandas-docs/stable/indexing.html#indexing-view-versus-copy\n",
      "/home/liyouru/virtual_tf1.3_python2.7/lib/python2.7/site-packages/ipykernel_launcher.py:67: SettingWithCopyWarning: \n",
      "A value is trying to be set on a copy of a slice from a DataFrame\n",
      "\n",
      "See the caveats in the documentation: http://pandas.pydata.org/pandas-docs/stable/indexing.html#indexing-view-versus-copy\n",
      "/home/liyouru/virtual_tf1.3_python2.7/lib/python2.7/site-packages/ipykernel_launcher.py:68: SettingWithCopyWarning: \n",
      "A value is trying to be set on a copy of a slice from a DataFrame\n",
      "\n",
      "See the caveats in the documentation: http://pandas.pydata.org/pandas-docs/stable/indexing.html#indexing-view-versus-copy\n"
     ]
    },
    {
     "name": "stdout",
     "output_type": "stream",
     "text": [
      "TRAINING SIZE: (11198, 525) , 11198\n",
      "GBRT Model is Training...\n",
      "STATION:  dongsi\n",
      "AIR AQ TYPE: PM2.5\n",
      "VALUE: [30, 31, 40, 41, 44, 50, 53, 45, 54, 49, 47, 51, 52, 53, 54, 58, 57, 54, 49, 38, 37, 36, 38, 33, 30, 43, 30, 30, 33, 42, 43, 47, 48, 46, 44, 45, 55, 42, 46, 57, 69, 65, 60, 56, 52, 53, 46, 55]\n",
      "------------------------------------\n",
      "TRAINING SIZE: (11198, 525) , 11198\n",
      "GBRT Model is Training...\n",
      "STATION:  dongsi\n",
      "AIR AQ TYPE: PM10\n",
      "VALUE: [62, 61, 69, 65, 68, 64, 55, 67, 75, 84, 83, 73, 75, 75, 76, 98, 97, 91, 91, 87, 87, 82, 96, 92, 86, 86, 83, 91, 92, 95, 99, 96, 71, 75, 76, 87, 85, 82, 89, 97, 103, 108, 114, 125, 127, 123, 129, 117]\n",
      "------------------------------------\n",
      "TRAINING SIZE: (11198, 525) , 11198\n",
      "GBRT Model is Training...\n",
      "STATION:  dongsi\n",
      "AIR AQ TYPE: O3\n",
      "VALUE: [79, 85, 79, 91, 90, 91, 104, 98, 126, 131, 135, 122, 114, 111, 98, 82, 68, 68, 49, 49, 46, 55, 55, 47, 44, 51, 65, 110, 129, 134, 151, 170, 178, 177, 179, 190, 190, 185, 182, 176, 169, 147, 123, 105, 85, 71, 66, 72]\n",
      "------------------------------------\n"
     ]
    },
    {
     "name": "stderr",
     "output_type": "stream",
     "text": [
      "100%|██████████| 11317/11317 [00:48<00:00, 235.71it/s]\n",
      "100%|██████████| 11317/11317 [01:18<00:00, 144.67it/s]\n"
     ]
    },
    {
     "name": "stdout",
     "output_type": "stream",
     "text": [
      "TRAINING SIZE: (11198, 525) , 11198\n",
      "GBRT Model is Training...\n",
      "STATION:  tiantan\n",
      "AIR AQ TYPE: PM2.5\n",
      "VALUE: [20, 17, 19, 24, 25, 27, 22, 26, 26, 28, 28, 30, 35, 40, 33, 37, 37, 33, 31, 24, 19, 25, 24, 24, 23, 29, 27, 32, 33, 42, 39, 41, 38, 39, 38, 38, 35, 33, 31, 31, 52, 44, 50, 47, 47, 49, 41, 52]\n",
      "------------------------------------\n",
      "TRAINING SIZE: (11198, 525) , 11198\n",
      "GBRT Model is Training...\n",
      "STATION:  tiantan\n",
      "AIR AQ TYPE: PM10\n",
      "VALUE: [61, 53, 61, 57, 70, 76, 74, 85, 88, 86, 86, 82, 77, 78, 80, 107, 106, 89, 97, 94, 96, 91, 112, 99, 98, 100, 99, 103, 99, 110, 101, 107, 113, 106, 98, 96, 95, 102, 97, 99, 100, 110, 112, 113, 109, 109, 103, 93]\n",
      "------------------------------------\n",
      "TRAINING SIZE: (11198, 525) , 11198\n",
      "GBRT Model is Training...\n",
      "STATION:  tiantan\n",
      "AIR AQ TYPE: O3\n",
      "VALUE: [85, 98, 95, 94, 91, 102, 110, 132, 156, 141, 154, 122, 101, 107, 87, 84, 73, 57, 48, 37, 31, 30, 39, 61, 24, 30, 61, 120, 129, 137, 156, 171, 173, 172, 173, 178, 179, 170, 181, 171, 150, 110, 82, 75, 50, 49, 49, 67]\n",
      "------------------------------------\n"
     ]
    },
    {
     "name": "stderr",
     "output_type": "stream",
     "text": [
      "100%|██████████| 11317/11317 [00:46<00:00, 245.65it/s]\n",
      "100%|██████████| 11317/11317 [01:13<00:00, 153.21it/s]\n"
     ]
    },
    {
     "name": "stdout",
     "output_type": "stream",
     "text": [
      "TRAINING SIZE: (11198, 525) , 11198\n",
      "GBRT Model is Training...\n",
      "STATION:  guanyuan\n",
      "AIR AQ TYPE: PM2.5\n",
      "VALUE: [24, 25, 32, 36, 37, 39, 38, 45, 41, 43, 43, 45, 41, 38, 36, 41, 35, 39, 42, 34, 37, 38, 24, 27, 33, 50, 51, 54, 53, 54, 59, 69, 62, 58, 47, 49, 47, 43, 47, 44, 49, 42, 36, 35, 25, 36, 38, 56]\n",
      "------------------------------------\n",
      "TRAINING SIZE: (11198, 525) , 11198\n",
      "GBRT Model is Training...\n",
      "STATION:  guanyuan\n",
      "AIR AQ TYPE: PM10\n",
      "VALUE: [68, 52, 53, 46, 51, 62, 75, 86, 86, 93, 73, 72, 77, 74, 78, 87, 92, 78, 93, 86, 78, 82, 87, 88, 94, 101, 94, 93, 95, 111, 90, 88, 82, 73, 76, 77, 74, 80, 85, 80, 101, 120, 112, 121, 116, 117, 117, 107]\n",
      "------------------------------------\n",
      "TRAINING SIZE: (11198, 525) , 11198\n",
      "GBRT Model is Training...\n",
      "STATION:  guanyuan\n",
      "AIR AQ TYPE: O3\n",
      "VALUE: [82, 81, 79, 90, 103, 109, 109, 125, 138, 139, 136, 112, 104, 93, 76, 74, 61, 50, 44, 36, 37, 39, 37, 31, 28, 29, 57, 99, 121, 130, 139, 152, 162, 163, 175, 172, 180, 178, 182, 175, 159, 127, 85, 70, 60, 51, 62, 72]\n",
      "------------------------------------\n"
     ]
    },
    {
     "name": "stderr",
     "output_type": "stream",
     "text": [
      "100%|██████████| 11317/11317 [00:45<00:00, 246.76it/s]\n",
      "100%|██████████| 11317/11317 [01:12<00:00, 155.10it/s]\n"
     ]
    },
    {
     "name": "stdout",
     "output_type": "stream",
     "text": [
      "TRAINING SIZE: (11198, 525) , 11198\n",
      "GBRT Model is Training...\n",
      "STATION:  wanshouxigong\n",
      "AIR AQ TYPE: PM2.5\n",
      "VALUE: [24, 19, 38, 48, 54, 62, 61, 62, 64, 67, 67, 68, 65, 64, 62, 58, 58, 57, 54, 56, 51, 46, 30, 33, 34, 57, 56, 57, 54, 57, 65, 70, 67, 65, 60, 58, 52, 53, 57, 57, 63, 58, 72, 73, 68, 58, 58, 52]\n",
      "------------------------------------\n",
      "TRAINING SIZE: (11198, 525) , 11198\n",
      "GBRT Model is Training...\n",
      "STATION:  wanshouxigong\n",
      "AIR AQ TYPE: PM10\n",
      "VALUE: [65, 58, 72, 75, 92, 92, 80, 79, 88, 86, 89, 90, 101, 118, 120, 150, 146, 132, 124, 125, 135, 130, 164, 166, 158, 168, 152, 147, 156, 158, 159, 153, 153, 144, 142, 145, 153, 154, 159, 163, 164, 170, 164, 169, 156, 162, 162, 165]\n",
      "------------------------------------\n",
      "TRAINING SIZE: (11198, 525) , 11198\n",
      "GBRT Model is Training...\n",
      "STATION:  wanshouxigong\n",
      "AIR AQ TYPE: O3\n",
      "VALUE: [91, 92, 78, 68, 74, 96, 117, 129, 152, 139, 144, 116, 122, 98, 80, 69, 55, 42, 38, 35, 38, 32, 42, 39, 29, 40, 78, 96, 116, 117, 147, 159, 154, 163, 185, 180, 166, 171, 179, 171, 153, 135, 106, 78, 47, 52, 66, 81]\n",
      "------------------------------------\n"
     ]
    },
    {
     "name": "stderr",
     "output_type": "stream",
     "text": [
      "100%|██████████| 11316/11316 [00:46<00:00, 245.36it/s]\n",
      "100%|██████████| 11316/11316 [01:13<00:00, 153.04it/s]\n"
     ]
    },
    {
     "name": "stdout",
     "output_type": "stream",
     "text": [
      "TRAINING SIZE: (11197, 525) , 11197\n",
      "GBRT Model is Training...\n",
      "STATION:  aotizhongxin\n",
      "AIR AQ TYPE: PM2.5\n",
      "VALUE: [25, 16, 24, 25, 32, 32, 18, 26, 27, 29, 29, 23, 22, 28, 39, 31, 23, 26, 25, 28, 30, 30, 29, 32, 25, 57, 54, 56, 59, 65, 67, 67, 60, 63, 61, 61, 58, 56, 57, 32, 32, 33, 39, 38, 37, 34, 33, 36]\n",
      "------------------------------------\n",
      "TRAINING SIZE: (11197, 525) , 11197\n",
      "GBRT Model is Training...\n",
      "STATION:  aotizhongxin\n",
      "AIR AQ TYPE: PM10\n",
      "VALUE: [61, 62, 66, 69, 66, 67, 78, 88, 83, 81, 79, 87, 90, 87, 87, 110, 108, 95, 92, 102, 98, 109, 107, 116, 123, 128, 133, 124, 127, 145, 140, 136, 137, 134, 131, 132, 127, 126, 123, 123, 128, 121, 123, 123, 128, 130, 126, 122]\n",
      "------------------------------------\n",
      "TRAINING SIZE: (11197, 525) , 11197\n",
      "GBRT Model is Training...\n",
      "STATION:  aotizhongxin\n",
      "AIR AQ TYPE: O3\n",
      "VALUE: [45, 62, 63, 70, 77, 94, 119, 119, 118, 108, 116, 106, 102, 87, 76, 62, 41, 41, 30, 35, 27, 36, 29, 23, 18, 35, 65, 98, 113, 125, 142, 159, 160, 158, 156, 160, 169, 178, 167, 169, 166, 118, 97, 76, 61, 35, 46, 56]\n",
      "------------------------------------\n"
     ]
    },
    {
     "name": "stderr",
     "output_type": "stream",
     "text": [
      "100%|██████████| 11317/11317 [00:46<00:00, 242.66it/s]\n",
      "100%|██████████| 11317/11317 [01:14<00:00, 152.18it/s]\n"
     ]
    },
    {
     "name": "stdout",
     "output_type": "stream",
     "text": [
      "TRAINING SIZE: (11198, 525) , 11198\n",
      "GBRT Model is Training...\n",
      "STATION:  nongzhanguan\n",
      "AIR AQ TYPE: PM2.5\n",
      "VALUE: [24, 17, 16, 29, 23, 24, 25, 38, 40, 41, 41, 37, 42, 44, 38, 35, 36, 31, 27, 30, 28, 22, 25, 24, 30, 32, 36, 35, 34, 45, 45, 48, 48, 50, 48, 47, 47, 42, 47, 50, 47, 49, 46, 47, 43, 42, 40, 41]\n",
      "------------------------------------\n",
      "TRAINING SIZE: (11198, 525) , 11198\n",
      "GBRT Model is Training...\n",
      "STATION:  nongzhanguan\n",
      "AIR AQ TYPE: PM10\n",
      "VALUE: [78, 54, 49, 57, 84, 89, 79, 99, 101, 102, 103, 97, 116, 113, 114, 115, 129, 116, 112, 78, 86, 100, 94, 93, 74, 80, 109, 113, 112, 134, 134, 148, 139, 127, 133, 156, 149, 146, 132, 137, 134, 112, 120, 134, 143, 140, 131, 133]\n",
      "------------------------------------\n",
      "TRAINING SIZE: (11198, 525) , 11198\n",
      "GBRT Model is Training...\n",
      "STATION:  nongzhanguan\n",
      "AIR AQ TYPE: O3\n",
      "VALUE: [84, 93, 84, 93, 106, 100, 110, 108, 152, 167, 160, 155, 126, 109, 75, 81, 54, 48, 36, 24, 22, 26, 31, 20, 32, 41, 67, 101, 114, 117, 132, 152, 180, 183, 177, 178, 177, 180, 182, 169, 150, 138, 100, 82, 72, 58, 51, 54]\n",
      "------------------------------------\n"
     ]
    },
    {
     "name": "stderr",
     "output_type": "stream",
     "text": [
      "100%|██████████| 11317/11317 [00:46<00:00, 243.08it/s]\n",
      "100%|██████████| 11317/11317 [01:14<00:00, 152.69it/s]\n"
     ]
    },
    {
     "name": "stdout",
     "output_type": "stream",
     "text": [
      "TRAINING SIZE: (11198, 525) , 11198\n",
      "GBRT Model is Training...\n",
      "STATION:  wanliu\n",
      "AIR AQ TYPE: PM2.5\n",
      "VALUE: [23, 26, 28, 28, 26, 27, 32, 33, 35, 34, 36, 37, 43, 43, 47, 34, 37, 34, 30, 32, 34, 31, 24, 25, 32, 39, 39, 33, 31, 33, 44, 45, 41, 43, 40, 42, 42, 38, 37, 40, 41, 47, 52, 32, 39, 39, 24, 25]\n",
      "------------------------------------\n",
      "TRAINING SIZE: (11198, 525) , 11198\n",
      "GBRT Model is Training...\n",
      "STATION:  wanliu\n",
      "AIR AQ TYPE: PM10\n",
      "VALUE: [67, 66, 56, 55, 64, 62, 65, 75, 86, 79, 87, 92, 84, 88, 86, 117, 129, 128, 106, 128, 122, 114, 122, 119, 115, 121, 97, 96, 104, 105, 100, 104, 86, 98, 93, 91, 86, 83, 103, 105, 115, 115, 120, 106, 112, 115, 111, 107]\n",
      "------------------------------------\n",
      "TRAINING SIZE: (11198, 525) , 11198\n",
      "GBRT Model is Training...\n",
      "STATION:  wanliu\n",
      "AIR AQ TYPE: O3\n",
      "VALUE: [33, 55, 61, 116, 118, 135, 155, 169, 172, 169, 145, 129, 107, 92, 66, 66, 50, 36, 30, 30, 14, 16, 29, 19, 25, 33, 69, 121, 125, 119, 171, 178, 186, 206, 199, 191, 197, 204, 203, 184, 137, 103, 81, 45, 27, 37, 46, 51]\n",
      "------------------------------------\n"
     ]
    },
    {
     "name": "stderr",
     "output_type": "stream",
     "text": [
      "100%|██████████| 11317/11317 [00:46<00:00, 245.46it/s]\n",
      "100%|██████████| 11317/11317 [01:14<00:00, 152.87it/s]\n"
     ]
    },
    {
     "name": "stdout",
     "output_type": "stream",
     "text": [
      "TRAINING SIZE: (11198, 525) , 11198\n",
      "GBRT Model is Training...\n",
      "STATION:  beibuxinqu\n",
      "AIR AQ TYPE: PM2.5\n",
      "VALUE: [26, 24, 37, 43, 45, 50, 50, 65, 69, 87, 87, 97, 80, 58, 79, 59, 58, 57, 51, 60, 59, 59, 66, 67, 77, 71, 57, 53, 58, 60, 52, 53, 49, 47, 51, 56, 58, 55, 55, 50, 51, 53, 44, 58, 56, 62, 66, 66]\n",
      "------------------------------------\n",
      "TRAINING SIZE: (11198, 525) , 11198\n",
      "GBRT Model is Training...\n",
      "STATION:  beibuxinqu\n",
      "AIR AQ TYPE: PM10\n",
      "VALUE: [97, 72, 122, 156, 161, 191, 180, 183, 192, 189, 192, 199, 174, 138, 162, 136, 149, 158, 142, 162, 169, 164, 170, 172, 209, 205, 210, 210, 196, 201, 209, 199, 202, 192, 104, 102, 104, 85, 77, 75, 175, 162, 148, 187, 205, 207, 229, 215]\n",
      "------------------------------------\n",
      "TRAINING SIZE: (11198, 525) , 11198\n",
      "GBRT Model is Training...\n",
      "STATION:  beibuxinqu\n",
      "AIR AQ TYPE: O3\n",
      "VALUE: [82, 95, 117, 125, 152, 151, 148, 162, 173, 165, 125, 98, 105, 77, 35, 39, 35, 26, 24, 24, 26, 25, 24, 23, 43, 41, 105, 122, 119, 122, 118, 147, 151, 164, 169, 177, 173, 165, 158, 110, 71, 64, 36, 39, 38, 34, 34, 45]\n",
      "------------------------------------\n"
     ]
    },
    {
     "name": "stderr",
     "output_type": "stream",
     "text": [
      "100%|██████████| 11317/11317 [00:45<00:00, 246.28it/s]\n",
      "100%|██████████| 11317/11317 [01:14<00:00, 152.81it/s]\n"
     ]
    },
    {
     "name": "stdout",
     "output_type": "stream",
     "text": [
      "TRAINING SIZE: (11198, 525) , 11198\n",
      "GBRT Model is Training...\n",
      "STATION:  zhiwuyuan\n",
      "AIR AQ TYPE: PM2.5\n",
      "VALUE: [28, 30, 30, 22, 28, 32, 36, 53, 61, 47, 58, 54, 42, 37, 32, 33, 23, 18, 13, 17, 18, 18, 20, 34, 33, 33, 36, 24, 33, 29, 29, 31, 29, 35, 34, 34, 26, 32, 31, 30, 31, 36, 28, 23, 35, 45, 37, 32]\n",
      "------------------------------------\n",
      "TRAINING SIZE: (11198, 525) , 11198\n",
      "GBRT Model is Training...\n",
      "STATION:  zhiwuyuan\n",
      "AIR AQ TYPE: PM10\n",
      "VALUE: [66, 66, 90, 60, 86, 92, 93, 96, 95, 90, 97, 97, 91, 73, 68, 98, 84, 78, 79, 75, 74, 71, 70, 79, 72, 71, 84, 74, 89, 95, 98, 89, 92, 92, 91, 89, 95, 97, 89, 88, 93, 99, 95, 94, 89, 98, 99, 94]\n",
      "------------------------------------\n",
      "TRAINING SIZE: (11198, 525) , 11198\n",
      "GBRT Model is Training...\n",
      "STATION:  zhiwuyuan\n",
      "AIR AQ TYPE: O3\n",
      "VALUE: [86, 102, 117, 152, 164, 166, 164, 160, 168, 187, 143, 142, 120, 90, 81, 74, 68, 56, 51, 46, 38, 47, 40, 65, 50, 53, 94, 119, 133, 139, 155, 167, 179, 189, 190, 178, 176, 186, 184, 168, 132, 105, 79, 68, 54, 52, 78, 81]\n",
      "------------------------------------\n"
     ]
    },
    {
     "name": "stderr",
     "output_type": "stream",
     "text": [
      "100%|██████████| 11317/11317 [00:46<00:00, 243.21it/s]\n",
      "100%|██████████| 11317/11317 [01:13<00:00, 153.38it/s]\n"
     ]
    },
    {
     "name": "stdout",
     "output_type": "stream",
     "text": [
      "TRAINING SIZE: (11198, 525) , 11198\n",
      "GBRT Model is Training...\n",
      "STATION:  fengtaihuayuan\n",
      "AIR AQ TYPE: PM2.5\n",
      "VALUE: [16, 16, 20, 28, 28, 31, 38, 41, 42, 42, 40, 36, 36, 43, 46, 45, 48, 45, 48, 47, 43, 45, 44, 31, 27, 45, 50, 48, 57, 60, 61, 62, 60, 55, 49, 61, 53, 53, 54, 52, 66, 66, 75, 75, 59, 58, 46, 68]\n",
      "------------------------------------\n",
      "TRAINING SIZE: (11198, 525) , 11198\n",
      "GBRT Model is Training...\n",
      "STATION:  fengtaihuayuan\n",
      "AIR AQ TYPE: PM10\n",
      "VALUE: [68, 63, 79, 74, 98, 108, 106, 100, 103, 103, 108, 112, 107, 118, 137, 141, 136, 140, 131, 127, 125, 122, 121, 110, 108, 102, 121, 130, 123, 130, 135, 138, 139, 122, 123, 124, 127, 126, 134, 155, 150, 151, 156, 162, 149, 141, 148, 148]\n",
      "------------------------------------\n",
      "TRAINING SIZE: (11198, 525) , 11198\n",
      "GBRT Model is Training...\n",
      "STATION:  fengtaihuayuan\n",
      "AIR AQ TYPE: O3\n",
      "VALUE: [81, 79, 82, 83, 102, 124, 139, 153, 187, 153, 138, 116, 97, 97, 83, 66, 55, 55, 51, 31, 26, 24, 35, 32, 32, 39, 83, 118, 127, 141, 165, 162, 177, 179, 180, 179, 183, 181, 174, 168, 151, 125, 71, 60, 53, 48, 60, 61]\n",
      "------------------------------------\n"
     ]
    },
    {
     "name": "stderr",
     "output_type": "stream",
     "text": [
      "100%|██████████| 11316/11316 [00:45<00:00, 249.41it/s]\n",
      "100%|██████████| 11316/11316 [01:13<00:00, 154.85it/s]\n"
     ]
    },
    {
     "name": "stdout",
     "output_type": "stream",
     "text": [
      "TRAINING SIZE: (11197, 525) , 11197\n",
      "GBRT Model is Training...\n",
      "STATION:  yungang\n",
      "AIR AQ TYPE: PM2.5\n",
      "VALUE: [26, 29, 26, 27, 37, 43, 52, 50, 44, 42, 45, 45, 40, 47, 35, 33, 43, 38, 51, 48, 46, 50, 53, 22, 39, 47, 56, 56, 53, 41, 43, 50, 45, 47, 45, 47, 47, 37, 45, 43, 54, 55, 54, 46, 50, 52, 35, 41]\n",
      "------------------------------------\n",
      "TRAINING SIZE: (11197, 525) , 11197\n",
      "GBRT Model is Training...\n",
      "STATION:  yungang\n",
      "AIR AQ TYPE: PM10\n",
      "VALUE: [43, 49, 50, 44, 50, 72, 94, 102, 110, 89, 97, 97, 85, 87, 85, 93, 102, 91, 95, 102, 103, 90, 98, 113, 105, 117, 114, 118, 115, 112, 122, 127, 122, 122, 126, 129, 122, 110, 114, 116, 131, 136, 132, 111, 101, 107, 110, 109]\n",
      "------------------------------------\n",
      "TRAINING SIZE: (11197, 525) , 11197\n",
      "GBRT Model is Training...\n",
      "STATION:  yungang\n",
      "AIR AQ TYPE: O3\n",
      "VALUE: [109, 110, 121, 139, 143, 166, 163, 167, 183, 176, 160, 121, 93, 89, 75, 78, 77, 74, 65, 55, 45, 41, 39, 42, 54, 65, 111, 124, 136, 138, 144, 170, 182, 191, 192, 189, 187, 170, 182, 158, 145, 108, 89, 78, 74, 72, 60, 85]\n",
      "------------------------------------\n"
     ]
    },
    {
     "name": "stderr",
     "output_type": "stream",
     "text": [
      "100%|██████████| 11317/11317 [00:45<00:00, 247.02it/s]\n",
      "100%|██████████| 11317/11317 [01:12<00:00, 155.39it/s]\n"
     ]
    },
    {
     "name": "stdout",
     "output_type": "stream",
     "text": [
      "TRAINING SIZE: (11198, 525) , 11198\n",
      "GBRT Model is Training...\n",
      "STATION:  gucheng\n",
      "AIR AQ TYPE: PM2.5\n",
      "VALUE: [27, 27, 36, 34, 52, 53, 62, 69, 70, 72, 75, 75, 62, 62, 56, 53, 58, 55, 53, 50, 50, 53, 52, 50, 53, 63, 63, 65, 63, 53, 56, 62, 63, 59, 57, 62, 59, 59, 66, 61, 59, 64, 64, 56, 48, 54, 54, 51]\n",
      "------------------------------------\n",
      "TRAINING SIZE: (11198, 525) , 11198\n",
      "GBRT Model is Training...\n",
      "STATION:  gucheng\n",
      "AIR AQ TYPE: PM10\n",
      "VALUE: [81, 88, 74, 73, 84, 92, 119, 118, 130, 127, 124, 136, 140, 142, 146, 155, 150, 156, 171, 148, 146, 152, 141, 156, 151, 140, 142, 144, 138, 117, 116, 121, 121, 132, 112, 115, 123, 124, 114, 118, 114, 115, 131, 136, 118, 144, 132, 128]\n",
      "------------------------------------\n",
      "TRAINING SIZE: (11198, 525) , 11198\n",
      "GBRT Model is Training...\n",
      "STATION:  gucheng\n",
      "AIR AQ TYPE: O3\n",
      "VALUE: [83, 103, 114, 137, 176, 182, 173, 188, 195, 178, 145, 145, 110, 102, 81, 70, 60, 60, 53, 44, 42, 31, 39, 26, 38, 48, 95, 121, 139, 155, 202, 209, 206, 213, 203, 204, 202, 192, 178, 177, 147, 121, 78, 74, 42, 40, 43, 88]\n",
      "------------------------------------\n"
     ]
    },
    {
     "name": "stderr",
     "output_type": "stream",
     "text": [
      "100%|██████████| 11317/11317 [00:46<00:00, 242.87it/s]\n",
      "100%|██████████| 11317/11317 [01:13<00:00, 154.21it/s]\n"
     ]
    },
    {
     "name": "stdout",
     "output_type": "stream",
     "text": [
      "TRAINING SIZE: (11198, 525) , 11198\n",
      "GBRT Model is Training...\n",
      "STATION:  fangshan\n",
      "AIR AQ TYPE: PM2.5\n",
      "VALUE: [18, 33, 34, 31, 39, 36, 38, 41, 43, 44, 47, 50, 48, 51, 49, 48, 42, 40, 42, 43, 38, 29, 34, 18, 32, 34, 33, 36, 41, 46, 47, 57, 48, 53, 51, 54, 53, 49, 48, 51, 49, 49, 46, 46, 47, 32, 36, 37]\n",
      "------------------------------------\n",
      "TRAINING SIZE: (11198, 525) , 11198\n",
      "GBRT Model is Training...\n",
      "STATION:  fangshan\n",
      "AIR AQ TYPE: PM10\n",
      "VALUE: [90, 93, 84, 86, 93, 122, 114, 128, 130, 136, 126, 140, 130, 137, 137, 138, 155, 157, 156, 161, 152, 138, 141, 144, 124, 110, 105, 113, 131, 140, 163, 159, 165, 162, 157, 154, 154, 162, 174, 180, 177, 176, 178, 179, 173, 155, 172, 158]\n",
      "------------------------------------\n",
      "TRAINING SIZE: (11198, 525) , 11198\n",
      "GBRT Model is Training...\n",
      "STATION:  fangshan\n",
      "AIR AQ TYPE: O3\n",
      "VALUE: [52, 65, 71, 78, 92, 93, 123, 147, 174, 157, 144, 128, 121, 128, 132, 119, 89, 81, 70, 53, 40, 34, 40, 37, 58, 98, 140, 152, 147, 169, 182, 204, 193, 213, 216, 193, 184, 178, 159, 151, 138, 109, 73, 61, 46, 33, 27, 33]\n",
      "------------------------------------\n"
     ]
    },
    {
     "name": "stderr",
     "output_type": "stream",
     "text": [
      "100%|██████████| 11317/11317 [00:47<00:00, 238.79it/s]\n",
      "100%|██████████| 11317/11317 [01:14<00:00, 152.77it/s]\n"
     ]
    },
    {
     "name": "stdout",
     "output_type": "stream",
     "text": [
      "TRAINING SIZE: (11198, 525) , 11198\n",
      "GBRT Model is Training...\n",
      "STATION:  daxing\n",
      "AIR AQ TYPE: PM2.5\n",
      "VALUE: [17, 23, 26, 29, 39, 37, 34, 36, 41, 41, 40, 48, 51, 50, 47, 48, 40, 39, 42, 46, 42, 43, 40, 39, 35, 41, 34, 36, 36, 40, 40, 46, 53, 53, 55, 54, 55, 50, 43, 52, 56, 46, 49, 50, 51, 59, 50, 50]\n",
      "------------------------------------\n",
      "TRAINING SIZE: (11198, 525) , 11198\n",
      "GBRT Model is Training...\n",
      "STATION:  daxing\n",
      "AIR AQ TYPE: PM10\n",
      "VALUE: [75, 76, 74, 64, 77, 87, 91, 102, 99, 95, 92, 94, 88, 97, 98, 103, 111, 121, 144, 153, 149, 132, 125, 116, 106, 98, 90, 110, 115, 116, 121, 118, 115, 115, 119, 113, 132, 138, 152, 151, 134, 147, 138, 149, 132, 146, 142, 144]\n",
      "------------------------------------\n",
      "TRAINING SIZE: (11198, 525) , 11198\n",
      "GBRT Model is Training...\n",
      "STATION:  daxing\n",
      "AIR AQ TYPE: O3\n",
      "VALUE: [108, 124, 118, 108, 116, 111, 116, 133, 173, 189, 190, 179, 152, 151, 116, 91, 67, 60, 51, 29, 29, 18, 17, 19, 19, 32, 85, 113, 116, 115, 154, 143, 152, 162, 147, 157, 168, 175, 171, 170, 153, 144, 118, 82, 51, 42, 39, 44]\n",
      "------------------------------------\n"
     ]
    },
    {
     "name": "stderr",
     "output_type": "stream",
     "text": [
      "100%|██████████| 11317/11317 [00:47<00:00, 238.05it/s]\n",
      "100%|██████████| 11317/11317 [01:13<00:00, 153.07it/s]\n"
     ]
    },
    {
     "name": "stdout",
     "output_type": "stream",
     "text": [
      "TRAINING SIZE: (11198, 525) , 11198\n",
      "GBRT Model is Training...\n",
      "STATION:  yizhuang\n",
      "AIR AQ TYPE: PM2.5\n",
      "VALUE: [35, 46, 27, 29, 41, 46, 48, 47, 50, 57, 49, 49, 48, 40, 40, 46, 48, 50, 61, 59, 59, 52, 49, 48, 53, 47, 36, 45, 48, 51, 41, 38, 44, 51, 49, 47, 45, 42, 44, 43, 40, 40, 47, 43, 49, 46, 42, 46]\n",
      "------------------------------------\n",
      "TRAINING SIZE: (11198, 525) , 11198\n",
      "GBRT Model is Training...\n",
      "STATION:  yizhuang\n",
      "AIR AQ TYPE: PM10\n",
      "VALUE: [82, 71, 67, 68, 79, 74, 78, 83, 86, 83, 75, 77, 75, 83, 91, 88, 91, 116, 148, 146, 142, 136, 119, 100, 92, 92, 95, 98, 100, 109, 106, 100, 94, 87, 84, 89, 88, 97, 102, 98, 99, 105, 105, 118, 122, 122, 122, 125]\n",
      "------------------------------------\n",
      "TRAINING SIZE: (11198, 525) , 11198\n",
      "GBRT Model is Training...\n",
      "STATION:  yizhuang\n",
      "AIR AQ TYPE: O3\n",
      "VALUE: [90, 86, 86, 83, 102, 106, 93, 115, 152, 165, 151, 156, 138, 135, 132, 114, 96, 75, 55, 42, 38, 35, 56, 22, 43, 44, 69, 107, 113, 136, 189, 176, 195, 201, 204, 200, 194, 186, 192, 183, 166, 158, 117, 80, 76, 74, 71, 61]\n",
      "------------------------------------\n"
     ]
    },
    {
     "name": "stderr",
     "output_type": "stream",
     "text": [
      "100%|██████████| 11317/11317 [00:46<00:00, 242.72it/s]\n",
      "100%|██████████| 11317/11317 [01:15<00:00, 150.69it/s]\n"
     ]
    },
    {
     "name": "stdout",
     "output_type": "stream",
     "text": [
      "TRAINING SIZE: (11198, 525) , 11198\n",
      "GBRT Model is Training...\n",
      "STATION:  tongzhou\n",
      "AIR AQ TYPE: PM2.5\n",
      "VALUE: [40, 24, 26, 30, 38, 39, 43, 46, 48, 50, 61, 52, 49, 39, 39, 51, 52, 52, 38, 35, 54, 54, 44, 49, 37, 48, 45, 64, 65, 68, 72, 66, 64, 68, 69, 65, 63, 54, 42, 39, 44, 44, 41, 44, 51, 64, 50, 47]\n",
      "------------------------------------\n",
      "TRAINING SIZE: (11198, 525) , 11198\n",
      "GBRT Model is Training...\n",
      "STATION:  tongzhou\n",
      "AIR AQ TYPE: PM10\n",
      "VALUE: [74, 68, 75, 53, 67, 76, 85, 92, 87, 91, 91, 94, 104, 128, 121, 130, 157, 133, 109, 111, 154, 154, 136, 105, 96, 101, 111, 113, 118, 135, 126, 128, 133, 122, 121, 121, 138, 153, 155, 161, 160, 167, 161, 158, 152, 143, 142, 131]\n",
      "------------------------------------\n",
      "TRAINING SIZE: (11198, 525) , 11198\n",
      "GBRT Model is Training...\n",
      "STATION:  tongzhou\n",
      "AIR AQ TYPE: O3\n",
      "VALUE: [123, 124, 133, 123, 103, 120, 117, 121, 137, 143, 153, 146, 148, 94, 94, 84, 80, 59, 45, 41, 40, 43, 50, 38, 46, 43, 67, 88, 112, 125, 150, 177, 193, 199, 204, 213, 202, 200, 182, 164, 137, 116, 66, 54, 58, 67, 87, 107]\n",
      "------------------------------------\n"
     ]
    },
    {
     "name": "stderr",
     "output_type": "stream",
     "text": [
      "100%|██████████| 11317/11317 [00:46<00:00, 243.00it/s]\n",
      "100%|██████████| 11317/11317 [01:13<00:00, 154.84it/s]\n"
     ]
    },
    {
     "name": "stdout",
     "output_type": "stream",
     "text": [
      "TRAINING SIZE: (11198, 525) , 11198\n",
      "GBRT Model is Training...\n",
      "STATION:  shunyi\n",
      "AIR AQ TYPE: PM2.5\n",
      "VALUE: [18, 19, 15, 31, 39, 46, 50, 53, 56, 56, 54, 36, 41, 46, 49, 50, 47, 40, 37, 38, 28, 34, 32, 33, 21, 19, 41, 46, 38, 35, 31, 36, 35, 29, 37, 36, 31, 31, 31, 35, 37, 35, 42, 46, 44, 44, 51, 58]\n",
      "------------------------------------\n",
      "TRAINING SIZE: (11198, 525) , 11198\n",
      "GBRT Model is Training...\n",
      "STATION:  shunyi\n",
      "AIR AQ TYPE: PM10\n",
      "VALUE: [60, 54, 53, 68, 79, 78, 86, 105, 109, 104, 109, 88, 100, 102, 97, 98, 80, 72, 76, 88, 92, 97, 91, 76, 62, 72, 86, 88, 83, 95, 96, 97, 95, 98, 97, 88, 89, 89, 99, 103, 106, 104, 117, 115, 114, 100, 114, 120]\n",
      "------------------------------------\n",
      "TRAINING SIZE: (11198, 525) , 11198\n",
      "GBRT Model is Training...\n",
      "STATION:  shunyi\n",
      "AIR AQ TYPE: O3\n",
      "VALUE: [76, 72, 83, 104, 106, 95, 108, 126, 126, 138, 133, 130, 124, 97, 80, 82, 76, 68, 51, 36, 33, 31, 43, 20, 28, 45, 91, 115, 138, 137, 144, 171, 181, 203, 204, 203, 174, 173, 148, 134, 98, 83, 66, 69, 75, 82, 79, 92]\n",
      "------------------------------------\n"
     ]
    },
    {
     "name": "stderr",
     "output_type": "stream",
     "text": [
      "100%|██████████| 11317/11317 [00:47<00:00, 240.39it/s]\n",
      "100%|██████████| 11317/11317 [01:13<00:00, 153.04it/s]\n"
     ]
    },
    {
     "name": "stdout",
     "output_type": "stream",
     "text": [
      "TRAINING SIZE: (11198, 525) , 11198\n",
      "GBRT Model is Training...\n",
      "STATION:  pingchang\n",
      "AIR AQ TYPE: PM2.5\n",
      "VALUE: [42, 61, 59, 41, 60, 44, 65, 66, 69, 72, 71, 77, 35, 43, 36, 34, 36, 36, 40, 40, 37, 36, 40, 29, 62, 50, 50, 44, 50, 51, 52, 55, 49, 65, 58, 57, 53, 57, 58, 64, 63, 57, 56, 53, 53, 54, 49, 44]\n",
      "------------------------------------\n",
      "TRAINING SIZE: (11198, 525) , 11198\n",
      "GBRT Model is Training...\n",
      "STATION:  pingchang\n",
      "AIR AQ TYPE: PM10\n",
      "VALUE: [136, 139, 121, 110, 107, 108, 116, 135, 138, 140, 139, 143, 109, 93, 86, 90, 100, 101, 102, 101, 113, 109, 115, 107, 142, 121, 111, 112, 114, 114, 108, 106, 105, 117, 121, 129, 128, 112, 113, 118, 119, 119, 123, 125, 126, 129, 137, 134]\n",
      "------------------------------------\n",
      "TRAINING SIZE: (11198, 525) , 11198\n",
      "GBRT Model is Training...\n",
      "STATION:  pingchang\n",
      "AIR AQ TYPE: O3\n",
      "VALUE: [128, 143, 137, 129, 129, 134, 143, 172, 187, 191, 178, 157, 118, 80, 72, 69, 75, 69, 65, 66, 67, 78, 91, 109, 133, 113, 145, 135, 134, 156, 173, 172, 181, 206, 204, 216, 187, 167, 143, 112, 98, 95, 90, 96, 98, 106, 112, 104]\n",
      "------------------------------------\n"
     ]
    },
    {
     "name": "stderr",
     "output_type": "stream",
     "text": [
      "100%|██████████| 11316/11316 [00:46<00:00, 245.77it/s]\n",
      "100%|██████████| 11316/11316 [01:13<00:00, 154.74it/s]\n"
     ]
    },
    {
     "name": "stdout",
     "output_type": "stream",
     "text": [
      "TRAINING SIZE: (11197, 525) , 11197\n",
      "GBRT Model is Training...\n",
      "STATION:  mentougou\n",
      "AIR AQ TYPE: PM2.5\n",
      "VALUE: [28, 36, 44, 43, 44, 46, 50, 53, 51, 61, 57, 52, 44, 56, 56, 52, 45, 44, 41, 44, 51, 49, 48, 54, 58, 58, 54, 57, 58, 60, 54, 49, 54, 61, 58, 62, 65, 67, 59, 61, 67, 67, 65, 48, 53, 64, 58, 56]\n",
      "------------------------------------\n",
      "TRAINING SIZE: (11197, 525) , 11197\n",
      "GBRT Model is Training...\n",
      "STATION:  mentougou\n",
      "AIR AQ TYPE: PM10\n",
      "VALUE: [78, 88, 79, 91, 88, 90, 119, 121, 116, 106, 108, 111, 101, 105, 153, 129, 129, 106, 102, 108, 115, 114, 126, 142, 135, 132, 128, 133, 131, 135, 129, 130, 132, 149, 148, 140, 135, 143, 134, 124, 148, 149, 149, 123, 131, 149, 140, 148]\n",
      "------------------------------------\n",
      "TRAINING SIZE: (11197, 525) , 11197\n",
      "GBRT Model is Training...\n",
      "STATION:  mentougou\n",
      "AIR AQ TYPE: O3\n",
      "VALUE: [125, 133, 127, 133, 174, 194, 213, 210, 210, 191, 150, 126, 102, 79, 71, 68, 70, 68, 59, 61, 59, 53, 56, 64, 65, 79, 140, 160, 172, 176, 180, 186, 186, 202, 202, 207, 204, 213, 198, 159, 134, 107, 105, 102, 100, 95, 84, 105]\n",
      "------------------------------------\n"
     ]
    },
    {
     "name": "stderr",
     "output_type": "stream",
     "text": [
      "100%|██████████| 11317/11317 [00:46<00:00, 242.75it/s]\n",
      "100%|██████████| 11317/11317 [01:14<00:00, 152.37it/s]\n"
     ]
    },
    {
     "name": "stdout",
     "output_type": "stream",
     "text": [
      "TRAINING SIZE: (11198, 525) , 11198\n",
      "GBRT Model is Training...\n",
      "STATION:  pinggu\n",
      "AIR AQ TYPE: PM2.5\n",
      "VALUE: [23, 22, 28, 34, 36, 35, 33, 37, 38, 39, 39, 39, 38, 38, 39, 32, 25, 21, 22, 28, 25, 34, 28, 28, 25, 33, 39, 44, 43, 46, 52, 46, 47, 49, 44, 43, 43, 43, 42, 48, 44, 46, 47, 48, 54, 63, 59, 55]\n",
      "------------------------------------\n",
      "TRAINING SIZE: (11198, 525) , 11198\n",
      "GBRT Model is Training...\n",
      "STATION:  pinggu\n",
      "AIR AQ TYPE: PM10\n",
      "VALUE: [44, 36, 51, 60, 59, 58, 61, 59, 65, 65, 68, 63, 71, 64, 78, 76, 72, 101, 94, 79, 91, 72, 66, 64, 64, 76, 96, 96, 98, 100, 95, 89, 91, 91, 88, 84, 90, 88, 97, 111, 104, 101, 104, 103, 102, 110, 91, 90]\n",
      "------------------------------------\n",
      "TRAINING SIZE: (11198, 525) , 11198\n",
      "GBRT Model is Training...\n",
      "STATION:  pinggu\n",
      "AIR AQ TYPE: O3\n",
      "VALUE: [146, 159, 159, 177, 153, 158, 145, 167, 189, 205, 199, 174, 150, 130, 113, 106, 87, 87, 86, 83, 77, 80, 80, 108, 133, 165, 183, 195, 198, 193, 203, 215, 224, 213, 206, 197, 179, 174, 146, 115, 110, 109, 108, 106, 101, 95, 116, 136]\n",
      "------------------------------------\n"
     ]
    },
    {
     "name": "stderr",
     "output_type": "stream",
     "text": [
      "100%|██████████| 11317/11317 [00:46<00:00, 243.72it/s]\n",
      "100%|██████████| 11317/11317 [01:13<00:00, 154.03it/s]\n"
     ]
    },
    {
     "name": "stdout",
     "output_type": "stream",
     "text": [
      "TRAINING SIZE: (11198, 525) , 11198\n",
      "GBRT Model is Training...\n",
      "STATION:  huairou\n",
      "AIR AQ TYPE: PM2.5\n",
      "VALUE: [14, 22, 31, 35, 37, 34, 43, 51, 50, 55, 52, 48, 43, 37, 35, 31, 29, 30, 38, 44, 44, 40, 44, 46, 20, 39, 42, 40, 37, 47, 46, 47, 47, 42, 34, 40, 41, 38, 38, 34, 28, 28, 38, 38, 37, 40, 37, 24]\n",
      "------------------------------------\n",
      "TRAINING SIZE: (11198, 525) , 11198\n",
      "GBRT Model is Training...\n",
      "STATION:  huairou\n",
      "AIR AQ TYPE: PM10\n",
      "VALUE: [53, 60, 79, 84, 87, 100, 111, 133, 141, 139, 150, 137, 116, 98, 110, 107, 105, 107, 123, 124, 127, 125, 124, 122, 104, 129, 132, 139, 144, 133, 129, 129, 128, 126, 125, 137, 138, 132, 125, 121, 132, 126, 126, 138, 130, 131, 131, 139]\n",
      "------------------------------------\n",
      "TRAINING SIZE: (11198, 525) , 11198\n",
      "GBRT Model is Training...\n",
      "STATION:  huairou\n",
      "AIR AQ TYPE: O3\n",
      "VALUE: [161, 145, 142, 126, 130, 145, 144, 153, 161, 152, 153, 135, 127, 113, 104, 95, 86, 85, 80, 89, 90, 92, 104, 110, 95, 130, 151, 145, 154, 152, 151, 164, 162, 174, 164, 172, 169, 155, 138, 122, 113, 99, 98, 102, 104, 107, 123, 135]\n",
      "------------------------------------\n"
     ]
    },
    {
     "name": "stderr",
     "output_type": "stream",
     "text": [
      "100%|██████████| 11316/11316 [00:46<00:00, 243.93it/s]\n",
      "100%|██████████| 11316/11316 [01:16<00:00, 148.77it/s]\n"
     ]
    },
    {
     "name": "stdout",
     "output_type": "stream",
     "text": [
      "TRAINING SIZE: (11197, 525) , 11197\n",
      "GBRT Model is Training...\n",
      "STATION:  miyun\n",
      "AIR AQ TYPE: PM2.5\n",
      "VALUE: [19, 19, 32, 40, 37, 39, 41, 48, 41, 47, 49, 43, 34, 28, 25, 23, 26, 33, 31, 26, 45, 38, 34, 30, 33, 45, 39, 39, 41, 44, 46, 39, 35, 31, 30, 31, 32, 33, 34, 35, 39, 44, 42, 21, 34, 24, 34, 31]\n",
      "------------------------------------\n",
      "TRAINING SIZE: (11197, 525) , 11197\n",
      "GBRT Model is Training...\n",
      "STATION:  miyun\n",
      "AIR AQ TYPE: PM10\n",
      "VALUE: [42, 41, 57, 46, 52, 61, 63, 83, 82, 99, 130, 113, 102, 98, 96, 101, 105, 115, 112, 111, 120, 113, 105, 106, 97, 116, 97, 100, 94, 95, 99, 86, 88, 89, 94, 96, 80, 93, 100, 109, 115, 124, 118, 116, 112, 105, 110, 103]\n",
      "------------------------------------\n",
      "TRAINING SIZE: (11197, 525) , 11197\n",
      "GBRT Model is Training...\n",
      "STATION:  miyun\n",
      "AIR AQ TYPE: O3\n",
      "VALUE: [82, 115, 115, 118, 122, 134, 136, 157, 175, 169, 150, 124, 109, 112, 112, 110, 96, 97, 82, 84, 80, 90, 98, 81, 82, 96, 153, 171, 168, 166, 186, 195, 204, 198, 204, 195, 191, 166, 170, 167, 152, 131, 107, 116, 100, 92, 91, 90]\n",
      "------------------------------------\n"
     ]
    },
    {
     "name": "stderr",
     "output_type": "stream",
     "text": [
      "100%|██████████| 11317/11317 [00:46<00:00, 242.90it/s]\n",
      "100%|██████████| 11317/11317 [01:13<00:00, 153.64it/s]\n"
     ]
    },
    {
     "name": "stdout",
     "output_type": "stream",
     "text": [
      "TRAINING SIZE: (11198, 525) , 11198\n",
      "GBRT Model is Training...\n",
      "STATION:  yanqin\n",
      "AIR AQ TYPE: PM2.5\n",
      "VALUE: [44, 39, 45, 46, 46, 52, 59, 81, 82, 84, 78, 59, 62, 69, 55, 55, 53, 46, 46, 53, 54, 53, 50, 50, 27, 25, 33, 34, 36, 41, 51, 67, 66, 73, 69, 59, 63, 63, 62, 62, 59, 64, 63, 61, 73, 65, 61, 59]\n",
      "------------------------------------\n",
      "TRAINING SIZE: (11198, 525) , 11198\n",
      "GBRT Model is Training...\n",
      "STATION:  yanqin\n",
      "AIR AQ TYPE: PM10\n",
      "VALUE: [77, 74, 66, 75, 79, 91, 91, 102, 92, 99, 106, 110, 105, 98, 107, 79, 76, 77, 77, 81, 81, 84, 92, 91, 79, 64, 56, 57, 72, 81, 72, 91, 97, 79, 81, 88, 84, 73, 70, 81, 94, 90, 99, 92, 96, 98, 92, 83]\n",
      "------------------------------------\n",
      "TRAINING SIZE: (11198, 525) , 11198\n",
      "GBRT Model is Training...\n",
      "STATION:  yanqin\n",
      "AIR AQ TYPE: O3\n",
      "VALUE: [135, 143, 149, 170, 160, 174, 175, 176, 172, 177, 176, 148, 128, 72, 63, 47, 44, 47, 37, 31, 23, 26, 37, 45, 82, 103, 143, 154, 139, 140, 136, 130, 141, 131, 138, 155, 132, 126, 107, 96, 63, 74, 46, 44, 96, 85, 90, 95]\n",
      "------------------------------------\n"
     ]
    },
    {
     "name": "stderr",
     "output_type": "stream",
     "text": [
      "100%|██████████| 11317/11317 [00:45<00:00, 248.15it/s]\n",
      "100%|██████████| 11317/11317 [01:12<00:00, 155.28it/s]\n"
     ]
    },
    {
     "name": "stdout",
     "output_type": "stream",
     "text": [
      "TRAINING SIZE: (11198, 525) , 11198\n",
      "GBRT Model is Training...\n",
      "STATION:  miyunshuiku\n",
      "AIR AQ TYPE: PM2.5\n",
      "VALUE: [17, 17, 24, 26, 36, 33, 67, 77, 49, 51, 55, 61, 54, 42, 41, 36, 35, 38, 36, 39, 40, 40, 37, 35, 45, 57, 56, 48, 36, 37, 39, 48, 46, 42, 42, 46, 39, 41, 39, 43, 45, 44, 43, 53, 38, 46, 41, 46]\n",
      "------------------------------------\n",
      "TRAINING SIZE: (11198, 525) , 11198\n",
      "GBRT Model is Training...\n",
      "STATION:  miyunshuiku\n",
      "AIR AQ TYPE: PM10\n",
      "VALUE: [49, 40, 70, 72, 72, 74, 75, 78, 73, 77, 86, 86, 82, 75, 82, 108, 106, 109, 121, 119, 132, 136, 146, 143, 132, 147, 138, 141, 140, 139, 131, 140, 136, 141, 125, 129, 138, 150, 154, 148, 151, 149, 157, 156, 149, 135, 138, 140]\n",
      "------------------------------------\n",
      "TRAINING SIZE: (11198, 525) , 11198\n",
      "GBRT Model is Training...\n",
      "STATION:  miyunshuiku\n",
      "AIR AQ TYPE: O3\n",
      "VALUE: [147, 156, 163, 152, 148, 155, 168, 174, 176, 186, 184, 157, 142, 137, 125, 114, 109, 106, 97, 92, 95, 93, 100, 117, 129, 153, 166, 170, 162, 166, 174, 179, 193, 197, 189, 193, 200, 181, 169, 162, 151, 142, 132, 131, 122, 110, 119, 133]\n",
      "------------------------------------\n"
     ]
    },
    {
     "name": "stderr",
     "output_type": "stream",
     "text": [
      "100%|██████████| 11317/11317 [00:45<00:00, 249.74it/s]\n",
      "100%|██████████| 11317/11317 [01:13<00:00, 154.69it/s]\n"
     ]
    },
    {
     "name": "stdout",
     "output_type": "stream",
     "text": [
      "TRAINING SIZE: (11198, 525) , 11198\n",
      "GBRT Model is Training...\n",
      "STATION:  donggaocun\n",
      "AIR AQ TYPE: PM2.5\n",
      "VALUE: [28, 27, 29, 39, 39, 39, 41, 38, 41, 40, 35, 35, 33, 39, 42, 39, 10, 21, 23, 18, 23, 22, 15, 22, 28, 23, 11, 12, 18, 28, 27, 20, 30, 31, 29, 32, 37, 25, 27, 33, 35, 36, 39, 48, 45, 63, 56, 49]\n",
      "------------------------------------\n",
      "TRAINING SIZE: (11198, 525) , 11198\n",
      "GBRT Model is Training...\n",
      "STATION:  donggaocun\n",
      "AIR AQ TYPE: PM10\n",
      "VALUE: [43, 51, 59, 65, 74, 69, 69, 73, 73, 77, 72, 77, 79, 86, 88, 89, 48, 61, 84, 90, 95, 87, 77, 81, 90, 90, 74, 80, 96, 107, 95, 86, 92, 104, 100, 96, 103, 90, 86, 101, 96, 104, 106, 106, 106, 118, 121, 112]\n",
      "------------------------------------\n",
      "TRAINING SIZE: (11198, 525) , 11198\n",
      "GBRT Model is Training...\n",
      "STATION:  donggaocun\n",
      "AIR AQ TYPE: O3\n",
      "VALUE: [142, 135, 128, 131, 134, 117, 109, 114, 131, 143, 148, 139, 132, 114, 101, 95, 88, 105, 103, 100, 97, 101, 103, 125, 126, 125, 139, 141, 131, 133, 142, 150, 165, 169, 164, 149, 163, 144, 139, 121, 118, 120, 114, 120, 119, 122, 142, 146]\n",
      "------------------------------------\n"
     ]
    },
    {
     "name": "stderr",
     "output_type": "stream",
     "text": [
      "100%|██████████| 11317/11317 [00:46<00:00, 241.30it/s]\n",
      "100%|██████████| 11317/11317 [01:14<00:00, 152.89it/s]\n"
     ]
    },
    {
     "name": "stdout",
     "output_type": "stream",
     "text": [
      "TRAINING SIZE: (11198, 525) , 11198\n",
      "GBRT Model is Training...\n",
      "STATION:  yongledian\n",
      "AIR AQ TYPE: PM2.5\n",
      "VALUE: [32, 28, 34, 26, 26, 42, 49, 56, 52, 51, 46, 45, 51, 61, 54, 57, 60, 66, 71, 66, 68, 70, 71, 71, 74, 70, 67, 60, 60, 59, 62, 61, 63, 60, 61, 56, 60, 57, 57, 61, 64, 70, 72, 72, 74, 76, 56, 51]\n",
      "------------------------------------\n",
      "TRAINING SIZE: (11198, 525) , 11198\n",
      "GBRT Model is Training...\n",
      "STATION:  yongledian\n",
      "AIR AQ TYPE: PM10\n",
      "VALUE: [68, 63, 48, 55, 78, 103, 118, 133, 120, 122, 110, 119, 121, 115, 124, 118, 129, 144, 149, 143, 150, 134, 128, 128, 114, 110, 124, 120, 126, 142, 137, 136, 146, 136, 135, 134, 134, 130, 127, 132, 139, 137, 157, 149, 147, 138, 131, 132]\n",
      "------------------------------------\n",
      "TRAINING SIZE: (11198, 525) , 11198\n",
      "GBRT Model is Training...\n",
      "STATION:  yongledian\n",
      "AIR AQ TYPE: O3\n",
      "VALUE: [131, 155, 125, 80, 77, 60, 74, 88, 131, 157, 147, 153, 139, 144, 129, 127, 106, 81, 45, 38, 34, 36, 44, 52, 69, 73, 116, 119, 130, 132, 144, 196, 192, 198, 210, 210, 203, 184, 163, 148, 124, 120, 80, 30, 34, 37, 48, 43]\n",
      "------------------------------------\n"
     ]
    },
    {
     "name": "stderr",
     "output_type": "stream",
     "text": [
      "100%|██████████| 11317/11317 [00:47<00:00, 239.28it/s]\n",
      "100%|██████████| 11317/11317 [01:14<00:00, 152.37it/s]\n"
     ]
    },
    {
     "name": "stdout",
     "output_type": "stream",
     "text": [
      "TRAINING SIZE: (11198, 525) , 11198\n",
      "GBRT Model is Training...\n",
      "STATION:  yufa\n",
      "AIR AQ TYPE: PM2.5\n",
      "VALUE: [21, 22, 28, 27, 34, 41, 42, 40, 40, 43, 54, 69, 47, 45, 44, 42, 36, 39, 38, 39, 40, 42, 44, 58, 50, 49, 50, 52, 46, 50, 52, 47, 47, 45, 48, 50, 57, 50, 50, 47, 49, 53, 52, 51, 53, 53, 54, 62]\n",
      "------------------------------------\n",
      "TRAINING SIZE: (11198, 525) , 11198\n",
      "GBRT Model is Training...\n",
      "STATION:  yufa\n",
      "AIR AQ TYPE: PM10\n",
      "VALUE: [56, 59, 62, 56, 50, 59, 74, 96, 93, 87, 82, 62, 69, 66, 69, 65, 77, 73, 71, 86, 76, 77, 76, 80, 72, 87, 84, 112, 107, 117, 118, 113, 111, 109, 92, 82, 88, 101, 99, 95, 92, 116, 120, 118, 123, 124, 121, 113]\n",
      "------------------------------------\n",
      "TRAINING SIZE: (11198, 525) , 11198\n",
      "GBRT Model is Training...\n",
      "STATION:  yufa\n",
      "AIR AQ TYPE: O3\n",
      "VALUE: [151, 167, 161, 140, 111, 112, 110, 128, 138, 138, 158, 134, 113, 120, 119, 106, 94, 78, 73, 67, 65, 63, 78, 64, 66, 65, 78, 98, 91, 128, 177, 183, 189, 192, 173, 179, 180, 168, 158, 137, 129, 111, 116, 97, 96, 89, 83, 101]\n",
      "------------------------------------\n"
     ]
    },
    {
     "name": "stderr",
     "output_type": "stream",
     "text": [
      "100%|██████████| 11317/11317 [00:46<00:00, 242.70it/s]\n",
      "100%|██████████| 11317/11317 [01:15<00:00, 150.71it/s]\n"
     ]
    },
    {
     "name": "stdout",
     "output_type": "stream",
     "text": [
      "TRAINING SIZE: (11198, 525) , 11198\n",
      "GBRT Model is Training...\n",
      "STATION:  liulihe\n",
      "AIR AQ TYPE: PM2.5\n",
      "VALUE: [38, 31, 29, 36, 37, 43, 40, 42, 41, 46, 47, 45, 46, 52, 49, 49, 42, 39, 41, 49, 48, 42, 46, 49, 42, 39, 41, 38, 42, 52, 59, 55, 56, 59, 57, 60, 57, 65, 58, 64, 61, 62, 65, 65, 53, 54, 54, 72]\n",
      "------------------------------------\n",
      "TRAINING SIZE: (11198, 525) , 11198\n",
      "GBRT Model is Training...\n",
      "STATION:  liulihe\n",
      "AIR AQ TYPE: PM10\n",
      "VALUE: [65, 63, 68, 65, 57, 91, 93, 102, 113, 105, 109, 106, 108, 103, 119, 125, 120, 145, 171, 170, 171, 173, 173, 170, 149, 134, 134, 143, 149, 159, 199, 177, 202, 202, 196, 195, 191, 175, 167, 206, 229, 215, 207, 214, 213, 217, 198, 198]\n",
      "------------------------------------\n",
      "TRAINING SIZE: (11198, 525) , 11198\n",
      "GBRT Model is Training...\n",
      "STATION:  liulihe\n",
      "AIR AQ TYPE: O3\n",
      "VALUE: [83, 105, 109, 98, 105, 133, 102, 134, 147, 130, 125, 123, 108, 98, 86, 70, 56, 56, 49, 53, 45, 16, 12, 10, 37, 55, 99, 105, 111, 125, 139, 153, 158, 163, 164, 159, 151, 144, 133, 119, 94, 82, 74, 67, 61, 73, 110, 87]\n",
      "------------------------------------\n"
     ]
    },
    {
     "name": "stderr",
     "output_type": "stream",
     "text": [
      "100%|██████████| 11317/11317 [00:46<00:00, 244.63it/s]\n",
      "100%|██████████| 11317/11317 [01:13<00:00, 154.79it/s]\n"
     ]
    },
    {
     "name": "stdout",
     "output_type": "stream",
     "text": [
      "TRAINING SIZE: (11198, 525) , 11198\n",
      "GBRT Model is Training...\n",
      "STATION:  qianmen\n",
      "AIR AQ TYPE: PM2.5\n",
      "VALUE: [22, 21, 27, 31, 29, 30, 29, 37, 36, 34, 38, 38, 43, 39, 37, 37, 33, 40, 46, 40, 37, 37, 29, 27, 28, 45, 39, 36, 36, 37, 32, 35, 31, 32, 32, 31, 35, 38, 41, 37, 41, 39, 38, 39, 37, 29, 37, 31]\n",
      "------------------------------------\n",
      "TRAINING SIZE: (11198, 525) , 11198\n",
      "GBRT Model is Training...\n",
      "STATION:  qianmen\n",
      "AIR AQ TYPE: PM10\n",
      "VALUE: [76, 67, 72, 81, 87, 88, 72, 75, 82, 82, 84, 90, 92, 108, 94, 110, 101, 107, 115, 108, 104, 108, 94, 87, 78, 91, 96, 105, 112, 113, 111, 113, 108, 104, 102, 112, 113, 112, 121, 122, 127, 126, 129, 141, 137, 133, 133, 133]\n",
      "------------------------------------\n",
      "TRAINING SIZE: (11198, 525) , 11198\n",
      "GBRT Model is Training...\n",
      "STATION:  qianmen\n",
      "AIR AQ TYPE: O3\n",
      "VALUE: [78, 83, 83, 83, 76, 79, 89, 104, 129, 125, 119, 103, 105, 88, 72, 72, 55, 49, 39, 37, 32, 29, 39, 37, 26, 41, 50, 84, 119, 131, 146, 162, 159, 158, 159, 171, 151, 159, 159, 168, 131, 103, 74, 60, 36, 43, 58, 48]\n",
      "------------------------------------\n"
     ]
    },
    {
     "name": "stderr",
     "output_type": "stream",
     "text": [
      "100%|██████████| 11317/11317 [00:47<00:00, 237.78it/s]\n",
      "100%|██████████| 11317/11317 [01:14<00:00, 151.80it/s]\n"
     ]
    },
    {
     "name": "stdout",
     "output_type": "stream",
     "text": [
      "TRAINING SIZE: (11198, 525) , 11198\n",
      "GBRT Model is Training...\n",
      "STATION:  yongdingmennei\n",
      "AIR AQ TYPE: PM2.5\n",
      "VALUE: [13, 8, 8, 24, 26, 39, 37, 37, 35, 40, 45, 47, 49, 41, 39, 41, 43, 42, 44, 42, 38, 40, 33, 34, 27, 46, 38, 46, 44, 46, 44, 49, 44, 47, 50, 57, 49, 53, 52, 46, 51, 47, 42, 45, 43, 39, 42, 51]\n",
      "------------------------------------\n",
      "TRAINING SIZE: (11198, 525) , 11198\n",
      "GBRT Model is Training...\n",
      "STATION:  yongdingmennei\n",
      "AIR AQ TYPE: PM10\n",
      "VALUE: [51, 60, 71, 90, 97, 99, 95, 94, 104, 99, 101, 95, 92, 116, 116, 126, 122, 124, 129, 128, 124, 109, 113, 111, 118, 127, 123, 134, 139, 136, 131, 136, 145, 126, 132, 142, 141, 144, 150, 144, 140, 138, 133, 146, 150, 149, 146, 139]\n",
      "------------------------------------\n",
      "TRAINING SIZE: (11198, 525) , 11198\n",
      "GBRT Model is Training...\n",
      "STATION:  yongdingmennei\n",
      "AIR AQ TYPE: O3\n",
      "VALUE: [52, 47, 42, 62, 57, 64, 71, 110, 113, 90, 95, 91, 75, 74, 51, 49, 37, 31, 24, 28, 31, 20, 18, 11, 3, 8, 34, 77, 84, 107, 121, 131, 120, 116, 119, 125, 124, 130, 137, 128, 114, 100, 64, 42, 24, 29, 33, 33]\n",
      "------------------------------------\n"
     ]
    },
    {
     "name": "stderr",
     "output_type": "stream",
     "text": [
      "100%|██████████| 11317/11317 [00:46<00:00, 243.28it/s]\n",
      "100%|██████████| 11317/11317 [01:13<00:00, 153.22it/s]\n"
     ]
    },
    {
     "name": "stdout",
     "output_type": "stream",
     "text": [
      "TRAINING SIZE: (11198, 525) , 11198\n",
      "GBRT Model is Training...\n",
      "STATION:  xizhimenbei\n",
      "AIR AQ TYPE: PM2.5\n",
      "VALUE: [26, 28, 25, 19, 23, 25, 29, 32, 36, 37, 38, 35, 31, 29, 35, 33, 38, 34, 35, 35, 32, 30, 23, 22, 24, 36, 37, 38, 40, 41, 45, 42, 42, 46, 44, 43, 42, 43, 41, 32, 38, 37, 40, 30, 34, 33, 29, 22]\n",
      "------------------------------------\n",
      "TRAINING SIZE: (11198, 525) , 11198\n",
      "GBRT Model is Training...\n",
      "STATION:  xizhimenbei\n",
      "AIR AQ TYPE: PM10\n",
      "VALUE: [72, 83, 80, 79, 82, 98, 106, 113, 110, 112, 114, 102, 101, 114, 109, 102, 109, 105, 106, 111, 118, 114, 106, 106, 108, 118, 105, 125, 128, 140, 144, 142, 119, 120, 122, 116, 120, 120, 125, 116, 120, 127, 136, 134, 140, 141, 138, 130]\n",
      "------------------------------------\n",
      "TRAINING SIZE: (11198, 525) , 11198\n",
      "GBRT Model is Training...\n",
      "STATION:  xizhimenbei\n",
      "AIR AQ TYPE: O3\n",
      "VALUE: [42, 51, 43, 58, 69, 84, 116, 123, 104, 103, 115, 91, 74, 73, 57, 47, 26, 21, 14, 13, 11, 15, 23, 22, 22, 36, 46, 81, 101, 115, 122, 126, 152, 147, 145, 150, 145, 143, 144, 140, 110, 89, 85, 56, 42, 36, 35, 49]\n",
      "------------------------------------\n"
     ]
    },
    {
     "name": "stderr",
     "output_type": "stream",
     "text": [
      "100%|██████████| 11317/11317 [00:45<00:00, 247.09it/s]\n",
      "100%|██████████| 11317/11317 [01:14<00:00, 151.27it/s]\n"
     ]
    },
    {
     "name": "stdout",
     "output_type": "stream",
     "text": [
      "TRAINING SIZE: (11198, 525) , 11198\n",
      "GBRT Model is Training...\n",
      "STATION:  nansanhuan\n",
      "AIR AQ TYPE: PM2.5\n",
      "VALUE: [34, 30, 30, 29, 41, 63, 58, 64, 64, 61, 33, 37, 28, 30, 35, 38, 53, 55, 53, 39, 32, 32, 35, 34, 31, 27, 24, 30, 34, 40, 44, 41, 40, 39, 38, 34, 35, 36, 36, 34, 40, 41, 49, 50, 48, 44, 48, 46]\n",
      "------------------------------------\n",
      "TRAINING SIZE: (11198, 525) , 11198\n",
      "GBRT Model is Training...\n",
      "STATION:  nansanhuan\n",
      "AIR AQ TYPE: PM10\n",
      "VALUE: [70, 74, 81, 81, 98, 113, 111, 138, 124, 130, 141, 129, 135, 121, 139, 143, 148, 151, 158, 151, 149, 134, 155, 134, 132, 136, 136, 135, 136, 146, 141, 140, 127, 129, 128, 132, 133, 188, 185, 171, 150, 153, 174, 177, 178, 163, 156, 146]\n",
      "------------------------------------\n",
      "TRAINING SIZE: (11198, 525) , 11198\n",
      "GBRT Model is Training...\n",
      "STATION:  nansanhuan\n",
      "AIR AQ TYPE: O3\n",
      "VALUE: [61, 68, 54, 63, 56, 76, 76, 63, 85, 81, 85, 77, 78, 65, 55, 44, 34, 26, 26, 25, 20, 17, 29, 21, 26, 40, 52, 84, 96, 94, 96, 112, 138, 140, 125, 125, 126, 129, 125, 123, 112, 93, 72, 43, 29, 40, 52, 45]\n",
      "------------------------------------\n"
     ]
    },
    {
     "name": "stderr",
     "output_type": "stream",
     "text": [
      "100%|██████████| 11317/11317 [00:47<00:00, 236.54it/s]\n",
      "100%|██████████| 11317/11317 [01:16<00:00, 147.13it/s]\n"
     ]
    },
    {
     "name": "stdout",
     "output_type": "stream",
     "text": [
      "TRAINING SIZE: (11198, 525) , 11198\n",
      "GBRT Model is Training...\n",
      "STATION:  dongsihuan\n",
      "AIR AQ TYPE: PM2.5\n",
      "VALUE: [26, 22, 21, 27, 29, 31, 28, 30, 34, 35, 35, 30, 34, 32, 32, 39, 39, 33, 34, 37, 33, 33, 32, 32, 29, 18, 30, 34, 38, 37, 38, 41, 39, 33, 27, 25, 31, 28, 26, 20, 17, 21, 28, 38, 32, 34, 33, 23]\n",
      "------------------------------------\n",
      "TRAINING SIZE: (11198, 525) , 11198\n",
      "GBRT Model is Training...\n",
      "STATION:  dongsihuan\n",
      "AIR AQ TYPE: PM10\n",
      "VALUE: [88, 89, 97, 99, 123, 106, 101, 99, 97, 103, 95, 98, 86, 87, 107, 104, 104, 93, 94, 104, 118, 139, 146, 133, 80, 84, 92, 110, 111, 113, 110, 99, 100, 90, 89, 93, 100, 100, 103, 94, 101, 114, 124, 152, 164, 163, 134, 137]\n",
      "------------------------------------\n",
      "TRAINING SIZE: (11198, 525) , 11198\n",
      "GBRT Model is Training...\n",
      "STATION:  dongsihuan\n",
      "AIR AQ TYPE: O3\n",
      "VALUE: [55, 56, 58, 59, 62, 58, 73, 88, 110, 101, 111, 104, 97, 69, 59, 49, 30, 30, 30, 18, 14, 18, 24, 6, 22, 33, 53, 95, 109, 127, 142, 155, 147, 149, 152, 163, 164, 170, 167, 159, 119, 110, 56, 40, 31, 25, 41, 51]\n",
      "------------------------------------\n"
     ]
    },
    {
     "name": "stderr",
     "output_type": "stream",
     "text": [
      "100%|██████████| 12196/12196 [00:33<00:00, 359.75it/s]\n",
      "100%|██████████| 12196/12196 [00:51<00:00, 235.65it/s]\n",
      "/home/liyouru/virtual_tf1.3_python2.7/lib/python2.7/site-packages/ipykernel_launcher.py:70: SettingWithCopyWarning: \n",
      "A value is trying to be set on a copy of a slice from a DataFrame\n",
      "\n",
      "See the caveats in the documentation: http://pandas.pydata.org/pandas-docs/stable/indexing.html#indexing-view-versus-copy\n",
      "/home/liyouru/virtual_tf1.3_python2.7/lib/python2.7/site-packages/ipykernel_launcher.py:71: SettingWithCopyWarning: \n",
      "A value is trying to be set on a copy of a slice from a DataFrame\n",
      "\n",
      "See the caveats in the documentation: http://pandas.pydata.org/pandas-docs/stable/indexing.html#indexing-view-versus-copy\n",
      "/home/liyouru/virtual_tf1.3_python2.7/lib/python2.7/site-packages/ipykernel_launcher.py:72: SettingWithCopyWarning: \n",
      "A value is trying to be set on a copy of a slice from a DataFrame\n",
      "\n",
      "See the caveats in the documentation: http://pandas.pydata.org/pandas-docs/stable/indexing.html#indexing-view-versus-copy\n",
      "/home/liyouru/virtual_tf1.3_python2.7/lib/python2.7/site-packages/ipykernel_launcher.py:73: SettingWithCopyWarning: \n",
      "A value is trying to be set on a copy of a slice from a DataFrame\n",
      "\n",
      "See the caveats in the documentation: http://pandas.pydata.org/pandas-docs/stable/indexing.html#indexing-view-versus-copy\n",
      "/home/liyouru/virtual_tf1.3_python2.7/lib/python2.7/site-packages/ipykernel_launcher.py:74: SettingWithCopyWarning: \n",
      "A value is trying to be set on a copy of a slice from a DataFrame\n",
      "\n",
      "See the caveats in the documentation: http://pandas.pydata.org/pandas-docs/stable/indexing.html#indexing-view-versus-copy\n",
      "/home/liyouru/virtual_tf1.3_python2.7/lib/python2.7/site-packages/ipykernel_launcher.py:75: SettingWithCopyWarning: \n",
      "A value is trying to be set on a copy of a slice from a DataFrame\n",
      "\n",
      "See the caveats in the documentation: http://pandas.pydata.org/pandas-docs/stable/indexing.html#indexing-view-versus-copy\n",
      "/home/liyouru/virtual_tf1.3_python2.7/lib/python2.7/site-packages/ipykernel_launcher.py:76: SettingWithCopyWarning: \n",
      "A value is trying to be set on a copy of a slice from a DataFrame\n",
      "\n",
      "See the caveats in the documentation: http://pandas.pydata.org/pandas-docs/stable/indexing.html#indexing-view-versus-copy\n"
     ]
    },
    {
     "name": "stdout",
     "output_type": "stream",
     "text": [
      "TRAINING SIZE: (12077, 339) , 12077\n",
      "GBRT Model is Training...\n",
      "STATION:  BL0\n",
      "AIR AQ TYPE: PM2.5\n",
      "VALUE: [15, 15, 14, 14, 14, 15, 13, 12, 12, 12, 11, 11, 11, 11, 13, 15, 13, 12, 12, 13, 13, 14, 13, 16, 15, 15, 14, 14, 11, 13, 12, 12, 11, 10, 11, 11, 11, 10, 11, 10, 10, 10, 10, 10, 10, 9, 9, 10]\n",
      "------------------------------------\n",
      "TRAINING SIZE: (12077, 339) , 12077\n",
      "GBRT Model is Training...\n",
      "STATION:  BL0\n",
      "AIR AQ TYPE: PM10\n",
      "VALUE: [27, 28, 27, 25, 27, 25, 23, 24, 26, 25, 27, 28, 28, 27, 29, 31, 30, 26, 26, 24, 24, 27, 26, 27, 27, 26, 22, 21, 20, 21, 21, 21, 19, 19, 19, 19, 18, 16, 16, 15, 15, 14, 14, 14, 14, 14, 14, 13]\n",
      "------------------------------------\n"
     ]
    },
    {
     "name": "stderr",
     "output_type": "stream",
     "text": [
      "100%|██████████| 12197/12197 [00:33<00:00, 359.08it/s]\n",
      "100%|██████████| 12197/12197 [00:51<00:00, 235.04it/s]\n"
     ]
    },
    {
     "name": "stdout",
     "output_type": "stream",
     "text": [
      "TRAINING SIZE: (12078, 339) , 12078\n",
      "GBRT Model is Training...\n",
      "STATION:  CD9\n",
      "AIR AQ TYPE: PM2.5\n",
      "VALUE: [27, 28, 27, 26, 27, 26, 28, 30, 31, 30, 30, 29, 28, 28, 27, 26, 23, 24, 26, 26, 27, 27, 26, 25, 26, 27, 26, 24, 24, 23, 19, 19, 17, 16, 17, 17, 17, 14, 15, 14, 13, 12, 12, 12, 12, 13, 13, 12]\n",
      "------------------------------------\n",
      "TRAINING SIZE: (12078, 339) , 12078\n",
      "GBRT Model is Training...\n",
      "STATION:  CD9\n",
      "AIR AQ TYPE: PM10\n",
      "VALUE: [33, 35, 37, 36, 35, 29, 30, 29, 29, 31, 32, 34, 37, 35, 32, 30, 27, 29, 30, 31, 31, 35, 38, 36, 37, 36, 35, 32, 33, 30, 26, 25, 25, 23, 23, 25, 25, 25, 23, 22, 21, 20, 19, 19, 19, 19, 18, 17]\n",
      "------------------------------------\n"
     ]
    },
    {
     "name": "stderr",
     "output_type": "stream",
     "text": [
      "100%|██████████| 12195/12195 [00:35<00:00, 346.71it/s]\n",
      "100%|██████████| 12195/12195 [00:52<00:00, 232.84it/s]\n"
     ]
    },
    {
     "name": "stdout",
     "output_type": "stream",
     "text": [
      "TRAINING SIZE: (12076, 339) , 12076\n",
      "GBRT Model is Training...\n",
      "STATION:  CD1\n",
      "AIR AQ TYPE: PM2.5\n",
      "VALUE: [19, 19, 19, 18, 17, 18, 18, 18, 19, 20, 20, 19, 18, 18, 19, 22, 19, 18, 18, 19, 19, 20, 20, 20, 20, 19, 22, 22, 21, 20, 15, 16, 15, 17, 14, 14, 14, 12, 11, 10, 10, 10, 10, 12, 12, 13, 13, 13]\n",
      "------------------------------------\n",
      "TRAINING SIZE: (12076, 339) , 12076\n",
      "GBRT Model is Training...\n",
      "STATION:  CD1\n",
      "AIR AQ TYPE: PM10\n",
      "VALUE: [30, 28, 27, 27, 26, 26, 26, 26, 26, 28, 28, 29, 28, 28, 26, 26, 28, 27, 29, 30, 30, 29, 29, 28, 27, 21, 27, 27, 28, 29, 24, 23, 22, 22, 21, 19, 16, 14, 13, 13, 12, 12, 15, 17, 16, 14, 13, 14]\n",
      "------------------------------------\n"
     ]
    },
    {
     "name": "stderr",
     "output_type": "stream",
     "text": [
      "100%|██████████| 12196/12196 [00:34<00:00, 354.06it/s]\n",
      "100%|██████████| 12196/12196 [00:52<00:00, 233.02it/s]\n"
     ]
    },
    {
     "name": "stdout",
     "output_type": "stream",
     "text": [
      "TRAINING SIZE: (12077, 339) , 12077\n",
      "GBRT Model is Training...\n",
      "STATION:  GN0\n",
      "AIR AQ TYPE: PM2.5\n",
      "VALUE: [23, 24, 26, 25, 26, 26, 26, 26, 26, 26, 26, 26, 26, 26, 26, 26, 24, 24, 24, 24, 23, 24, 26, 27, 28, 28, 27, 23, 20, 22, 21, 22, 21, 19, 17, 19, 17, 12, 10, 10, 10, 7, 8, 8, 9, 10, 10, 10]\n",
      "------------------------------------\n",
      "TRAINING SIZE: (12077, 339) , 12077\n",
      "GBRT Model is Training...\n",
      "STATION:  GN0\n",
      "AIR AQ TYPE: PM10\n",
      "VALUE: [32, 33, 31, 33, 35, 33, 33, 33, 32, 32, 32, 32, 32, 31, 31, 31, 31, 32, 32, 32, 32, 31, 30, 30, 30, 31, 28, 23, 26, 26, 23, 22, 21, 22, 20, 21, 20, 14, 13, 13, 13, 13, 12, 13, 13, 12, 12, 12]\n",
      "------------------------------------\n"
     ]
    },
    {
     "name": "stderr",
     "output_type": "stream",
     "text": [
      "100%|██████████| 12192/12192 [00:34<00:00, 353.74it/s]\n",
      "100%|██████████| 12192/12192 [00:52<00:00, 232.81it/s]\n"
     ]
    },
    {
     "name": "stdout",
     "output_type": "stream",
     "text": [
      "TRAINING SIZE: (12073, 339) , 12073\n",
      "GBRT Model is Training...\n",
      "STATION:  GR4\n",
      "AIR AQ TYPE: PM2.5\n",
      "VALUE: [17, 18, 19, 21, 20, 21, 21, 22, 20, 19, 18, 18, 17, 16, 15, 17, 17, 18, 18, 18, 20, 21, 21, 23, 24, 24, 25, 23, 21, 14, 15, 15, 13, 12, 11, 11, 12, 11, 10, 10, 10, 10, 10, 10, 10, 10, 9, 9]\n",
      "------------------------------------\n",
      "TRAINING SIZE: (12073, 339) , 12073\n",
      "GBRT Model is Training...\n",
      "STATION:  GR4\n",
      "AIR AQ TYPE: PM10\n",
      "VALUE: [26, 26, 26, 26, 27, 24, 24, 26, 26, 26, 23, 23, 25, 22, 24, 23, 24, 29, 26, 26, 27, 27, 26, 29, 29, 31, 29, 25, 25, 21, 22, 23, 22, 19, 19, 19, 19, 20, 21, 21, 19, 16, 17, 17, 17, 15, 15, 14]\n",
      "------------------------------------\n"
     ]
    },
    {
     "name": "stderr",
     "output_type": "stream",
     "text": [
      "100%|██████████| 12196/12196 [00:34<00:00, 349.22it/s]\n",
      "100%|██████████| 12196/12196 [00:53<00:00, 229.38it/s]\n"
     ]
    },
    {
     "name": "stdout",
     "output_type": "stream",
     "text": [
      "TRAINING SIZE: (12077, 339) , 12077\n",
      "GBRT Model is Training...\n",
      "STATION:  GN3\n",
      "AIR AQ TYPE: PM2.5\n",
      "VALUE: [21, 21, 23, 20, 23, 23, 23, 24, 26, 23, 24, 24, 25, 25, 24, 24, 24, 23, 22, 20, 19, 21, 22, 22, 25, 24, 23, 22, 20, 19, 18, 18, 18, 16, 16, 15, 13, 11, 13, 12, 12, 12, 11, 13, 14, 13, 12, 12]\n",
      "------------------------------------\n",
      "TRAINING SIZE: (12077, 339) , 12077\n",
      "GBRT Model is Training...\n",
      "STATION:  GN3\n",
      "AIR AQ TYPE: PM10\n",
      "VALUE: [36, 39, 37, 37, 38, 37, 36, 36, 35, 34, 36, 32, 32, 32, 32, 31, 32, 32, 33, 33, 33, 34, 34, 33, 34, 36, 37, 30, 27, 27, 25, 23, 26, 26, 28, 25, 23, 19, 22, 22, 22, 23, 22, 22, 21, 19, 19, 19]\n",
      "------------------------------------\n"
     ]
    },
    {
     "name": "stderr",
     "output_type": "stream",
     "text": [
      "100%|██████████| 12196/12196 [00:34<00:00, 351.72it/s]\n",
      "100%|██████████| 12196/12196 [00:52<00:00, 232.99it/s]\n"
     ]
    },
    {
     "name": "stdout",
     "output_type": "stream",
     "text": [
      "TRAINING SIZE: (12077, 339) , 12077\n",
      "GBRT Model is Training...\n",
      "STATION:  GR9\n",
      "AIR AQ TYPE: PM2.5\n",
      "VALUE: [24, 26, 26, 26, 24, 23, 25, 25, 25, 22, 24, 26, 26, 28, 28, 28, 25, 25, 25, 24, 24, 24, 23, 24, 24, 24, 21, 21, 17, 18, 17, 17, 16, 15, 14, 16, 14, 13, 14, 13, 12, 12, 11, 13, 13, 12, 12, 11]\n",
      "------------------------------------\n",
      "TRAINING SIZE: (12077, 339) , 12077\n",
      "GBRT Model is Training...\n",
      "STATION:  GR9\n",
      "AIR AQ TYPE: PM10\n",
      "VALUE: [37, 39, 39, 37, 34, 34, 37, 34, 33, 30, 32, 35, 33, 33, 32, 31, 33, 35, 35, 34, 34, 33, 34, 35, 41, 40, 35, 31, 28, 26, 23, 23, 24, 20, 19, 21, 21, 17, 17, 15, 14, 14, 14, 14, 14, 14, 14, 14]\n",
      "------------------------------------\n"
     ]
    },
    {
     "name": "stderr",
     "output_type": "stream",
     "text": [
      "100%|██████████| 12197/12197 [00:34<00:00, 352.13it/s]\n",
      "100%|██████████| 12197/12197 [00:53<00:00, 229.05it/s]\n"
     ]
    },
    {
     "name": "stdout",
     "output_type": "stream",
     "text": [
      "TRAINING SIZE: (12078, 339) , 12078\n",
      "GBRT Model is Training...\n",
      "STATION:  HV1\n",
      "AIR AQ TYPE: PM2.5\n",
      "VALUE: [18, 20, 20, 21, 20, 19, 18, 16, 17, 18, 18, 18, 18, 19, 18, 20, 19, 19, 16, 16, 17, 17, 16, 17, 18, 18, 18, 18, 16, 14, 12, 11, 15, 13, 10, 10, 11, 10, 10, 10, 10, 12, 9, 10, 9, 10, 9, 9]\n",
      "------------------------------------\n",
      "TRAINING SIZE: (12078, 339) , 12078\n",
      "GBRT Model is Training...\n",
      "STATION:  HV1\n",
      "AIR AQ TYPE: PM10\n",
      "VALUE: [27, 30, 31, 30, 25, 25, 27, 29, 28, 26, 29, 28, 29, 27, 27, 25, 25, 26, 23, 23, 23, 26, 24, 23, 24, 27, 27, 27, 27, 21, 20, 20, 22, 20, 20, 19, 21, 18, 17, 17, 17, 17, 16, 13, 12, 15, 13, 13]\n",
      "------------------------------------\n"
     ]
    },
    {
     "name": "stderr",
     "output_type": "stream",
     "text": [
      "100%|██████████| 12195/12195 [00:34<00:00, 355.64it/s]\n",
      "100%|██████████| 12195/12195 [00:51<00:00, 236.65it/s]\n"
     ]
    },
    {
     "name": "stdout",
     "output_type": "stream",
     "text": [
      "TRAINING SIZE: (12076, 339) , 12076\n",
      "GBRT Model is Training...\n",
      "STATION:  KF1\n",
      "AIR AQ TYPE: PM2.5\n",
      "VALUE: [20, 20, 18, 19, 19, 19, 19, 19, 19, 19, 17, 18, 18, 18, 18, 16, 18, 17, 18, 18, 18, 18, 18, 20, 19, 16, 14, 13, 13, 14, 14, 12, 12, 10, 6, 6, 6, 8, 10, 11, 13, 12, 12, 12, 13, 12, 12, 11]\n",
      "------------------------------------\n",
      "TRAINING SIZE: (12076, 339) , 12076\n",
      "GBRT Model is Training...\n",
      "STATION:  KF1\n",
      "AIR AQ TYPE: PM10\n",
      "VALUE: [30, 29, 28, 30, 29, 30, 30, 31, 30, 29, 30, 31, 31, 32, 31, 31, 30, 26, 27, 27, 26, 25, 25, 25, 25, 19, 18, 18, 18, 19, 20, 18, 17, 17, 13, 13, 13, 16, 15, 16, 18, 17, 16, 20, 20, 19, 19, 20]\n",
      "------------------------------------\n"
     ]
    },
    {
     "name": "stderr",
     "output_type": "stream",
     "text": [
      "100%|██████████| 12196/12196 [00:34<00:00, 353.13it/s]\n",
      "100%|██████████| 12196/12196 [00:52<00:00, 233.17it/s]\n"
     ]
    },
    {
     "name": "stdout",
     "output_type": "stream",
     "text": [
      "TRAINING SIZE: (12077, 339) , 12077\n",
      "GBRT Model is Training...\n",
      "STATION:  LW2\n",
      "AIR AQ TYPE: PM2.5\n",
      "VALUE: [28, 27, 30, 27, 29, 28, 28, 27, 30, 23, 22, 20, 21, 22, 23, 24, 24, 25, 23, 23, 23, 24, 26, 26, 25, 25, 23, 18, 17, 16, 16, 19, 21, 22, 19, 16, 16, 12, 11, 11, 12, 12, 12, 12, 12, 12, 13, 14]\n",
      "------------------------------------\n",
      "TRAINING SIZE: (12077, 339) , 12077\n",
      "GBRT Model is Training...\n",
      "STATION:  LW2\n",
      "AIR AQ TYPE: PM10\n",
      "VALUE: [35, 35, 34, 34, 34, 32, 33, 34, 33, 33, 34, 32, 32, 29, 28, 28, 29, 28, 31, 35, 35, 35, 36, 36, 36, 33, 26, 27, 27, 25, 23, 23, 24, 23, 26, 23, 20, 18, 18, 19, 19, 20, 19, 18, 19, 18, 18, 18]\n",
      "------------------------------------\n"
     ]
    },
    {
     "name": "stderr",
     "output_type": "stream",
     "text": [
      "100%|██████████| 12194/12194 [00:28<00:00, 424.66it/s]\n",
      "100%|██████████| 12194/12194 [00:44<00:00, 271.08it/s]\n"
     ]
    },
    {
     "name": "stdout",
     "output_type": "stream",
     "text": [
      "TRAINING SIZE: (12075, 339) , 12075\n",
      "GBRT Model is Training...\n",
      "STATION:  ST5\n",
      "AIR AQ TYPE: PM2.5\n",
      "VALUE: [28, 27, 28, 27, 28, 26, 25, 26, 27, 24, 24, 24, 22, 22, 21, 20, 23, 24, 24, 25, 24, 30, 33, 32, 28, 27, 27, 24, 23, 23, 22, 21, 18, 18, 18, 18, 15, 11, 11, 12, 11, 10, 10, 11, 13, 12, 12, 11]\n",
      "------------------------------------\n",
      "TRAINING SIZE: (12075, 339) , 12075\n",
      "GBRT Model is Training...\n",
      "STATION:  ST5\n",
      "AIR AQ TYPE: PM10\n",
      "VALUE: [40, 40, 39, 38, 39, 39, 37, 38, 38, 38, 39, 36, 36, 37, 40, 38, 36, 35, 37, 36, 37, 37, 37, 34, 37, 33, 30, 29, 27, 22, 22, 22, 21, 20, 22, 19, 20, 19, 21, 21, 21, 20, 19, 20, 20, 20, 19, 19]\n",
      "------------------------------------\n"
     ]
    },
    {
     "name": "stderr",
     "output_type": "stream",
     "text": [
      "100%|██████████| 12195/12195 [00:33<00:00, 362.02it/s]\n",
      "100%|██████████| 12195/12195 [00:52<00:00, 232.86it/s]\n"
     ]
    },
    {
     "name": "stdout",
     "output_type": "stream",
     "text": [
      "TRAINING SIZE: (12076, 339) , 12076\n",
      "GBRT Model is Training...\n",
      "STATION:  TH4\n",
      "AIR AQ TYPE: PM2.5\n",
      "VALUE: [23, 24, 24, 24, 24, 23, 23, 23, 24, 22, 21, 21, 22, 24, 23, 24, 24, 23, 23, 21, 23, 25, 25, 24, 24, 24, 24, 23, 22, 18, 18, 17, 18, 14, 15, 15, 16, 12, 14, 11, 11, 10, 8, 10, 10, 10, 10, 10]\n",
      "------------------------------------\n",
      "TRAINING SIZE: (12076, 339) , 12076\n",
      "GBRT Model is Training...\n",
      "STATION:  TH4\n",
      "AIR AQ TYPE: PM10\n",
      "VALUE: [36, 38, 38, 38, 36, 36, 36, 38, 36, 36, 35, 38, 38, 37, 35, 33, 36, 38, 39, 37, 36, 39, 38, 34, 35, 37, 37, 39, 36, 31, 32, 31, 29, 27, 27, 26, 23, 20, 20, 19, 19, 19, 20, 20, 19, 18, 19, 19]\n",
      "------------------------------------\n"
     ]
    },
    {
     "name": "stderr",
     "output_type": "stream",
     "text": [
      "100%|██████████| 12197/12197 [00:34<00:00, 352.38it/s]\n",
      "100%|██████████| 12197/12197 [00:51<00:00, 236.60it/s]\n"
     ]
    },
    {
     "name": "stdout",
     "output_type": "stream",
     "text": [
      "TRAINING SIZE: (12078, 339) , 12078\n",
      "GBRT Model is Training...\n",
      "STATION:  MY7\n",
      "AIR AQ TYPE: PM2.5\n",
      "VALUE: [25, 25, 25, 25, 24, 23, 24, 23, 22, 23, 25, 25, 25, 25, 25, 25, 24, 23, 25, 24, 24, 24, 26, 26, 24, 21, 22, 21, 18, 17, 16, 16, 16, 17, 18, 19, 17, 15, 15, 14, 14, 12, 13, 14, 12, 12, 13, 13]\n",
      "------------------------------------\n",
      "TRAINING SIZE: (12078, 339) , 12078\n",
      "GBRT Model is Training...\n",
      "STATION:  MY7\n",
      "AIR AQ TYPE: PM10\n",
      "VALUE: [37, 38, 37, 38, 37, 37, 36, 38, 38, 36, 36, 36, 37, 35, 37, 34, 36, 36, 37, 35, 34, 34, 33, 36, 35, 34, 33, 33, 31, 32, 27, 28, 28, 29, 28, 29, 27, 23, 22, 20, 20, 20, 19, 21, 21, 22, 19, 19]\n",
      "------------------------------------\n"
     ]
    }
   ],
   "source": [
    "get_submition('GBRT','31',72)"
   ]
  },
  {
   "cell_type": "markdown",
   "metadata": {},
   "source": [
    "# 结果提交"
   ]
  },
  {
   "cell_type": "code",
   "execution_count": 42,
   "metadata": {},
   "outputs": [
    {
     "name": "stdout",
     "output_type": "stream",
     "text": [
      "{\"success\": true}\n"
     ]
    }
   ],
   "source": [
    "import requests\n",
    "path = '/home/liyouru/.ipython/profile_myserver/dataset/KDD_Cup2018/submittion/submissioin_05_26_2.csv'\n",
    "files={'files': open(path,'rb')}\n",
    "\n",
    "data = {\n",
    "    # liyouru\n",
    "    \"user_id\": \"LiYouru\",   #user_id is your username which can be found on the top-right corner on our website when you logged in.\n",
    "    \"team_token\": \"e4cbc74100e5eba99a9a3857d0424cbe38da5f51ca1274c7f604093f13f0a6d6\", #your team_token.\n",
    "    \"description\": 'small(72)',  #no more than 40 chars.\n",
    "    \"filename\": \" 20180525->20180527-28\", #your filename\n",
    "}\n",
    "\n",
    "url = 'https://biendata.com/competition/kdd_2018_submit/'\n",
    "\n",
    "response = requests.post(url, files=files, data=data)\n",
    "\n",
    "print(response.text)"
   ]
  }
 ],
 "metadata": {
  "kernelspec": {
   "display_name": "Python 2",
   "language": "python",
   "name": "python2"
  },
  "language_info": {
   "codemirror_mode": {
    "name": "ipython",
    "version": 2
   },
   "file_extension": ".py",
   "mimetype": "text/x-python",
   "name": "python",
   "nbconvert_exporter": "python",
   "pygments_lexer": "ipython2",
   "version": "2.7.12"
  }
 },
 "nbformat": 4,
 "nbformat_minor": 2
}
