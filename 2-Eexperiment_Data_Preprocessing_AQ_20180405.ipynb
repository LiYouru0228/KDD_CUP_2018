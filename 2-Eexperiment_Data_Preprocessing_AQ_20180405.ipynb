{
 "cells": [
  {
   "cell_type": "markdown",
   "metadata": {},
   "source": [
    "# 数据读取"
   ]
  },
  {
   "cell_type": "code",
   "execution_count": 5,
   "metadata": {},
   "outputs": [],
   "source": [
    "import pandas as pd\n",
    "import numpy as np\n",
    "\n",
    "base_path = '/home/liyouru/.ipython/profile_myserver/dataset/KDD_Cup2018/'\n",
    "\n",
    "p_bj_aq = '/home/lifuzhen/KDD2018/beijing_17_18_aq.csv'\n",
    "p_bj_aq_lfz = '/home/lifuzhen/KDD2018/Fill_v1_undrop.csv'\n",
    "p_bj_aq_2_3_lfz = '/home/lifuzhen/KDD2018/Fill0203_v1_undrop.csv'\n",
    "p_bj_aq_full = base_path + 'beijing_17_18_aq_full.csv'\n",
    "p_bj_aq_2_3 = base_path + 'beijing_201802_201803_aq.csv'\n",
    "p_bj_aq_2_3_full = base_path + 'beijing_201802_201803_aq_full.csv'\n",
    "\n",
    "\n",
    "p_bj_meo = base_path + 'beijing_17_18_meo_full.csv'\n",
    "p_ld_aq1 = base_path + 'London_historical_aqi_forecast_stations_20180331.csv'\n",
    "p_ld_aq2 = base_path + 'London_historical_aqi_other_stations_20180331.csv'\n",
    "\n",
    "# *****************\n",
    "bj_input_path = base_path + 'daily_data/bj_aq/m_04_60.csv'\n",
    "ld_input_path = base_path + 'daily_data/ld_aq/m_04_60.csv'\n",
    "# *****************\n",
    "\n",
    "df_bj_aq = pd.read_csv(bj_input_path)\n",
    "df_bj_aq_2_3 = pd.read_csv(p_bj_aq_2_3)\n",
    "df_bj_meo = pd.read_csv(p_bj_meo)\n",
    "df_ld_aq1 = pd.read_csv(p_ld_aq1)\n",
    "df_ld_aq2 = pd.read_csv(p_ld_aq2)"
   ]
  },
  {
   "cell_type": "markdown",
   "metadata": {},
   "source": [
    "# 北京空气质量数据缺失值填补\n",
    "\n",
    "* 利用空间关系进行邻域填补：寻求最近邻监测点数据作为替代，若同缺失则扩大近邻选取范围\n",
    "* 利用时间关系进行邻域填补：取缺失位置临近时间的空气质量值作为替代"
   ]
  },
  {
   "cell_type": "markdown",
   "metadata": {},
   "source": [
    "# 统计空间近邻关系"
   ]
  },
  {
   "cell_type": "code",
   "execution_count": 6,
   "metadata": {
    "collapsed": true
   },
   "outputs": [],
   "source": [
    "def get_map(n_city):\n",
    "    n_pos = 0\n",
    "    if n_city == 1:\n",
    "        p_bj_pos = base_path + 'bj_station_position.csv'\n",
    "        df_bj_pos = pd.read_csv(p_bj_pos)\n",
    "        b_stationId = list(df_bj_pos['stationId'])\n",
    "        b_longitude = list(df_bj_pos['longitude'])\n",
    "        b_latitude = list(df_bj_pos['latitude'])\n",
    "        b_type = list(df_bj_pos['type'])\n",
    "        n_pos = 35\n",
    "    else:\n",
    "        p_bj_pos = base_path + 'london_station_position.csv'\n",
    "        df_bj_pos = pd.read_csv(p_bj_pos)\n",
    "        b_stationId = list(df_bj_pos['Station_id'])\n",
    "        b_longitude = list(df_bj_pos['Longitude'])\n",
    "        b_latitude = list(df_bj_pos['Latitude'])\n",
    "        b_type = []\n",
    "        for i in range(len(b_latitude)):\n",
    "            b_type.append(1)\n",
    "        df_bj_pos = pd.read_csv(p_bj_pos)\n",
    "        n_pos = 13\n",
    "    \n",
    "    # 计算相对距离\n",
    "    distance = []\n",
    "    neibour = []\n",
    "    for i in range(13):\n",
    "        temp = []\n",
    "\n",
    "        # 计算相对距离\n",
    "        index = []\n",
    "        for j in range(n_pos):\n",
    "            index.append(j)\n",
    "        del index[i]\n",
    "        for k in range(len(index)):\n",
    "            temp.append(pow(b_longitude[i] - b_longitude[index[k]],2) + pow(b_latitude[i] - b_latitude[index[k]],2) + pow(b_type[i] - b_type[index[k]],2))\n",
    "        distance.append(temp)\n",
    "        # 判定最近邻\n",
    "        s_distance = sorted(temp)\n",
    "        t_neibour = []\n",
    "        for j in range(12):\n",
    "            t_index = temp.index(s_distance[j])\n",
    "            if t_index < i:\n",
    "                t_neibour.append(b_stationId[t_index])\n",
    "            else:\n",
    "                t_neibour.append(b_stationId[t_index + 1])\n",
    "            neibour.append(t_neibour)\n",
    "\n",
    "    # 得到最佳替补对\n",
    "    best_pair4full = {}\n",
    "    for i in range(n_pos):\n",
    "        for j in range(12):\n",
    "            best_pair4full.setdefault(b_stationId[i],[]).append(neibour[i][j])\n",
    "    return best_pair4full\n",
    "best_pair4full = get_map(1)"
   ]
  },
  {
   "cell_type": "markdown",
   "metadata": {},
   "source": [
    "# 时空关系补全"
   ]
  },
  {
   "cell_type": "code",
   "execution_count": 7,
   "metadata": {},
   "outputs": [
    {
     "name": "stderr",
     "output_type": "stream",
     "text": [
      "100%|██████████| 46725/46725 [00:00<00:00, 84243.25it/s]\n"
     ]
    }
   ],
   "source": [
    "from tqdm import tqdm\n",
    "import datetime\n",
    "\n",
    "# 对北京空气质量数据建立时空关系映射\n",
    "bj_aq_map = {}\n",
    "b_aq_id = list(df_bj_aq['stationId'])\n",
    "b_aq_time = list(df_bj_aq['utc_time'])\n",
    "b_aq_pm25 = list(df_bj_aq['PM2.5'])\n",
    "b_aq_pm10 = list(df_bj_aq['PM10'])\n",
    "b_aq_no2 = list(df_bj_aq['NO2'])\n",
    "b_aq_co = list(df_bj_aq['CO'])\n",
    "b_aq_o3 = list(df_bj_aq['O3'])\n",
    "b_aq_so2 = list(df_bj_aq['SO2'])\n",
    "data2full_index = [b_aq_pm25,b_aq_pm10,b_aq_no2,b_aq_co,b_aq_o3,b_aq_so2] \n",
    "\n",
    "# 伦敦\n",
    "# b_aq_id = list(df_bj_aq['station_id'])\n",
    "# b_aq_time = list(df_bj_aq['MeasurementDateGMT'])\n",
    "# b_aq_pm25 = list(df_bj_aq['PM2.5 (ug/m3)'])\n",
    "# b_aq_pm10 = list(df_bj_aq['PM10 (ug/m3)'])\n",
    "# b_aq_no2 = list(df_bj_aq['NO2 (ug/m3)'])\n",
    "# data2full_index = [b_aq_pm25,b_aq_pm10,b_aq_no2] \n",
    "\n",
    "for i in range(len(b_aq_id)):\n",
    "    t_key = str(b_aq_id[i]) + str(b_aq_time[i]) \n",
    "    for each in data2full_index:\n",
    "        bj_aq_map.setdefault(t_key,[]).append(each[i])\n",
    "\n",
    "# 进行填补\n",
    "t_pm25,t_pm10,t_no2,t_co,t_o3,t_so2 = list(),list(),list(),list(),list(),list()\n",
    "t_index = [t_pm25,t_pm10,t_no2,t_co,t_o3,t_so2]\n",
    "# t_index = [t_pm25,t_pm10,t_no2]\n",
    "avg_fillna = [61,130,42,0.7,83,6]\n",
    "# avg_fillna = [17,25,40]\n",
    "\n",
    "for i in tqdm(range(len(b_aq_id))):\n",
    "    for j in range(len(t_index)):\n",
    "        # 无缺失填补\n",
    "        if not np.isnan(data2full_index[j][i]):\n",
    "            t_index[j].append(data2full_index[j][i])\n",
    "        # 空间邻域填补\n",
    "        elif bj_aq_map.has_key(str(best_pair4full[str(b_aq_id[i])][0]) + str(b_aq_time[i])):\n",
    "            if not np.isnan(bj_aq_map[str(best_pair4full[str(b_aq_id[i])][0]) + str(b_aq_time[i])][j]):\n",
    "                t_index[j].append(bj_aq_map[str(best_pair4full[str(b_aq_id[i])][0]) + str(b_aq_time[i])][j])\n",
    "            elif bj_aq_map.has_key(str(best_pair4full[str(b_aq_id[i])][1]) + str(b_aq_time[i])):\n",
    "                if not np.isnan(bj_aq_map[str(best_pair4full[str(b_aq_id[i])][1]) + str(b_aq_time[i])][j]):\n",
    "                    t_index[j].append(bj_aq_map[str(best_pair4full[str(b_aq_id[i])][1]) + str(b_aq_time[i])][j])\n",
    "                elif bj_aq_map.has_key(str(best_pair4full[str(b_aq_id[i])][2]) + str(b_aq_time[i])):\n",
    "                    if not np.isnan(bj_aq_map[str(best_pair4full[str(b_aq_id[i])][2]) + str(b_aq_time[i])][j]):\n",
    "                        t_index[j].append(bj_aq_map[str(best_pair4full[str(b_aq_id[i])][2]) + str(b_aq_time[i])][j])\n",
    "                    elif bj_aq_map.has_key(str(best_pair4full[str(b_aq_id[i])][3]) + str(b_aq_time[i])):\n",
    "                        if not np.isnan(bj_aq_map[str(best_pair4full[str(b_aq_id[i])][3]) + str(b_aq_time[i])][j]):\n",
    "                            t_index[j].append(bj_aq_map[str(best_pair4full[str(b_aq_id[i])][3]) + str(b_aq_time[i])][j])\n",
    "                        elif bj_aq_map.has_key(str(best_pair4full[str(b_aq_id[i])][4]) + str(b_aq_time[i])):\n",
    "                            if not np.isnan(bj_aq_map[str(best_pair4full[str(b_aq_id[i])][4]) + str(b_aq_time[i])][j]):\n",
    "                                t_index[j].append(bj_aq_map[str(best_pair4full[str(b_aq_id[i])][4]) + str(b_aq_time[i])][j])\n",
    "                            elif bj_aq_map.has_key(str(best_pair4full[str(b_aq_id[i])][5]) + str(b_aq_time[i])):\n",
    "                                if not np.isnan(bj_aq_map[str(best_pair4full[str(b_aq_id[i])][5]) + str(b_aq_time[i])][j]):\n",
    "                                    t_index[j].append(bj_aq_map[str(best_pair4full[str(b_aq_id[i])][5]) + str(b_aq_time[i])][j])\n",
    "                                elif bj_aq_map.has_key(str(best_pair4full[str(b_aq_id[i])][6]) + str(b_aq_time[i])):\n",
    "                                    if not np.isnan(bj_aq_map[str(best_pair4full[str(b_aq_id[i])][6]) + str(b_aq_time[i])][j]):\n",
    "                                        t_index[j].append(bj_aq_map[str(best_pair4full[str(b_aq_id[i])][6]) + str(b_aq_time[i])][j])\n",
    "                                    elif bj_aq_map.has_key(str(best_pair4full[str(b_aq_id[i])][7]) + str(b_aq_time[i])):\n",
    "                                        if not np.isnan(bj_aq_map[str(best_pair4full[str(b_aq_id[i])][7]) + str(b_aq_time[i])][j]):\n",
    "                                            t_index[j].append(bj_aq_map[str(best_pair4full[str(b_aq_id[i])][7]) + str(b_aq_time[i])][j])\n",
    "                                        else:\n",
    "                                            t_index[j].append(avg_fillna[j])\n",
    "                                    else:\n",
    "                                        t_index[j].append(avg_fillna[j])\n",
    "                                else:\n",
    "                                    t_index[j].append(avg_fillna[j])\n",
    "                            else:\n",
    "                                t_index[j].append(avg_fillna[j])\n",
    "                        else:\n",
    "                            t_index[j].append(avg_fillna[j])\n",
    "                    else:\n",
    "                        t_index[j].append(avg_fillna[j])\n",
    "                else:\n",
    "                    t_index[j].append(avg_fillna[j])\n",
    "            else:\n",
    "                t_index[j].append(avg_fillna[j])\n",
    "        else:\n",
    "            t_index[j].append(avg_fillna[j])"
   ]
  },
  {
   "cell_type": "markdown",
   "metadata": {},
   "source": [
    "# 写入文件"
   ]
  },
  {
   "cell_type": "code",
   "execution_count": 4,
   "metadata": {},
   "outputs": [
    {
     "data": {
      "text/html": [
       "<div>\n",
       "<style>\n",
       "    .dataframe thead tr:only-child th {\n",
       "        text-align: right;\n",
       "    }\n",
       "\n",
       "    .dataframe thead th {\n",
       "        text-align: left;\n",
       "    }\n",
       "\n",
       "    .dataframe tbody tr th {\n",
       "        vertical-align: top;\n",
       "    }\n",
       "</style>\n",
       "<table border=\"1\" class=\"dataframe\">\n",
       "  <thead>\n",
       "    <tr style=\"text-align: right;\">\n",
       "      <th></th>\n",
       "      <th>stationId</th>\n",
       "      <th>utc_time</th>\n",
       "      <th>PM2.5</th>\n",
       "      <th>PM10</th>\n",
       "      <th>NO2</th>\n",
       "    </tr>\n",
       "  </thead>\n",
       "  <tbody>\n",
       "    <tr>\n",
       "      <th>18654</th>\n",
       "      <td>MY7</td>\n",
       "      <td>2018-05-30 19:00:00</td>\n",
       "      <td>28.5</td>\n",
       "      <td>33.0</td>\n",
       "      <td>63.1</td>\n",
       "    </tr>\n",
       "    <tr>\n",
       "      <th>18655</th>\n",
       "      <td>MY7</td>\n",
       "      <td>2018-05-30 20:00:00</td>\n",
       "      <td>31.4</td>\n",
       "      <td>37.8</td>\n",
       "      <td>36.9</td>\n",
       "    </tr>\n",
       "    <tr>\n",
       "      <th>18656</th>\n",
       "      <td>MY7</td>\n",
       "      <td>2018-05-30 21:00:00</td>\n",
       "      <td>34.8</td>\n",
       "      <td>41.9</td>\n",
       "      <td>70.2</td>\n",
       "    </tr>\n",
       "    <tr>\n",
       "      <th>18657</th>\n",
       "      <td>MY7</td>\n",
       "      <td>2018-05-30 22:00:00</td>\n",
       "      <td>41.5</td>\n",
       "      <td>49.7</td>\n",
       "      <td>76.7</td>\n",
       "    </tr>\n",
       "    <tr>\n",
       "      <th>18658</th>\n",
       "      <td>MY7</td>\n",
       "      <td>2018-05-30 23:00:00</td>\n",
       "      <td>50.5</td>\n",
       "      <td>64.7</td>\n",
       "      <td>77.5</td>\n",
       "    </tr>\n",
       "  </tbody>\n",
       "</table>\n",
       "</div>"
      ],
      "text/plain": [
       "      stationId             utc_time PM2.5  PM10   NO2\n",
       "18654       MY7  2018-05-30 19:00:00  28.5  33.0  63.1\n",
       "18655       MY7  2018-05-30 20:00:00  31.4  37.8  36.9\n",
       "18656       MY7  2018-05-30 21:00:00  34.8  41.9  70.2\n",
       "18657       MY7  2018-05-30 22:00:00  41.5  49.7  76.7\n",
       "18658       MY7  2018-05-30 23:00:00  50.5  64.7  77.5"
      ]
     },
     "execution_count": 4,
     "metadata": {},
     "output_type": "execute_result"
    }
   ],
   "source": [
    "n_df_bj_aq = []\n",
    "index = [b_aq_id,b_aq_time,t_pm25,t_pm10,t_no2,t_co,t_o3,t_so2]\n",
    "# index = [b_aq_id,b_aq_time,t_pm25,t_pm10,t_no2]\n",
    "\n",
    "for each in index:\n",
    "    n_df_bj_aq.append(each)\n",
    "\n",
    "c_index = ['stationId','utc_time','PM2.5','PM10','NO2','CO','O3','SO2']\n",
    "# c_in/dex = ['stationId','utc_time','PM2.5','PM10','NO2']\n",
    "\n",
    "df_bj_aq_full_s1 = pd.DataFrame(np.transpose(n_df_bj_aq) ,index = None, columns = c_index)\n",
    "df_bj_aq_full_s1.to_csv(ld_input_path)\n",
    "df_bj_aq_full_s1.tail()"
   ]
  },
  {
   "cell_type": "markdown",
   "metadata": {},
   "source": [
    "# 统计补全效果"
   ]
  },
  {
   "cell_type": "code",
   "execution_count": 5,
   "metadata": {},
   "outputs": [
    {
     "name": "stdout",
     "output_type": "stream",
     "text": [
      "总量：\n",
      "11795\n",
      "填补前缺量：\n",
      "PM2.5  PM10  NO2  O3  CO  O3  SO2\n",
      "2296 1734 2637 0 0 0\n",
      "填补后缺量：\n",
      "PM2.5  PM10  NO2  O3  CO  O3  SO2\n",
      "0   0   0   0   0   0\n"
     ]
    }
   ],
   "source": [
    "print '总量：'\n",
    "print len(data2full_index[0])\n",
    "\n",
    "c1 = [0,0,0,0,0,0]\n",
    "for i in range(len(data2full_index)):\n",
    "    for j in range(len(data2full_index[i])):\n",
    "        if np.isnan(data2full_index[i][j]):\n",
    "            c1[i] += 1\n",
    "print '填补前缺量：'\n",
    "print 'PM2.5  PM10  NO2  O3  CO  O3  SO2'\n",
    "print c1[0],c1[1],c1[2],c1[3],c1[4],c1[5]\n",
    "\n",
    "print '填补后缺量：'\n",
    "print 'PM2.5  PM10  NO2  O3  CO  O3  SO2'\n",
    "c2 = [0,0,0,0,0,0]\n",
    "\n",
    "for i in range(len(t_pm25)):\n",
    "    for j in range(3):\n",
    "        if np.isnan(t_index[j][i]):\n",
    "            c2[j] += 1\n",
    "        \n",
    "print c2[0],' ',c2[1],' ',c2[2],' ',c2[3],' ',c2[4],' ',c2[5]"
   ]
  },
  {
   "cell_type": "markdown",
   "metadata": {},
   "source": [
    "# 缺失分布可视化"
   ]
  },
  {
   "cell_type": "code",
   "execution_count": 406,
   "metadata": {},
   "outputs": [
    {
     "data": {
      "image/png": "[encoded data removed]",
      "text/plain": [
       "<matplotlib.figure.Figure at 0x7f2d77e72850>"
      ]
     },
     "metadata": {},
     "output_type": "display_data"
    },
    {
     "data": {
      "image/png": "[encoded data removed]",
      "text/plain": [
       "<matplotlib.figure.Figure at 0x7f2d77f29310>"
      ]
     },
     "metadata": {},
     "output_type": "display_data"
    },
    {
     "data": {
      "image/png": "[encoded data removed]",
      "text/plain": [
       "<matplotlib.figure.Figure at 0x7f2d77cafc50>"
      ]
     },
     "metadata": {},
     "output_type": "display_data"
    },
    {
     "data": {
      "image/png": "[encoded data removed]",
      "text/plain": [
       "<matplotlib.figure.Figure at 0x7f2d77d892d0>"
      ]
     },
     "metadata": {},
     "output_type": "display_data"
    },
    {
     "data": {
      "image/png": "[encoded data removed]",
      "text/plain": [
       "<matplotlib.figure.Figure at 0x7f2d77b7b1d0>"
      ]
     },
     "metadata": {},
     "output_type": "display_data"
    },
    {
     "data": {
      "image/png": "[encoded data removed]",
      "text/plain": [
       "<matplotlib.figure.Figure at 0x7f2d77ebcf10>"
      ]
     },
     "metadata": {},
     "output_type": "display_data"
    }
   ],
   "source": [
    "import matplotlib.pyplot as plt\n",
    "\n",
    "data = [t_pm25,t_pm10,t_no2]\n",
    "duration = []\n",
    "\n",
    "for each in t_index:\n",
    "    duration_temp = []\n",
    "    temp = 0\n",
    "    for i in range(len(each)):\n",
    "        if np.isnan(each[i]):\n",
    "            temp += 1\n",
    "        else:\n",
    "            if temp != 0:\n",
    "                duration_temp.append(temp)\n",
    "                temp = 0\n",
    "    duration.append(duration_temp)\n",
    "\n",
    "name = ['PM2.5','PM10','NO2','CO','O3','SO2']\n",
    "for i in range(6):\n",
    "    plt.subplot(6, 1, i+1)\n",
    "    plt.plot(duration[i],'b')\n",
    "    plt.title(name[i])\n",
    "    plt.show()"
   ]
  }
 ],
 "metadata": {
  "kernelspec": {
   "display_name": "Python 2",
   "language": "python",
   "name": "python2"
  },
  "language_info": {
   "codemirror_mode": {
    "name": "ipython",
    "version": 2
   },
   "file_extension": ".py",
   "mimetype": "text/x-python",
   "name": "python",
   "nbconvert_exporter": "python",
   "pygments_lexer": "ipython2",
   "version": "2.7.12"
  }
 },
 "nbformat": 4,
 "nbformat_minor": 2
}
