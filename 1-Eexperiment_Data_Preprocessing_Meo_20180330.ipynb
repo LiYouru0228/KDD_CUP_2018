{
 "cells": [
  {
   "cell_type": "markdown",
   "metadata": {},
   "source": [
    "# 数据读取"
   ]
  },
  {
   "cell_type": "code",
   "execution_count": 2,
   "metadata": {},
   "outputs": [
    {
     "name": "stderr",
     "output_type": "stream",
     "text": [
      "/home/liyouru/virtual_tf1.3_python2.7/local/lib/python2.7/site-packages/IPython/core/interactiveshell.py:2718: DtypeWarning: Columns (0,1) have mixed types. Specify dtype option on import or set low_memory=False.\n",
      "  interactivity=interactivity, compiler=compiler, result=result)\n"
     ]
    },
    {
     "data": {
      "text/html": [
       "<div>\n",
       "<style>\n",
       "    .dataframe thead tr:only-child th {\n",
       "        text-align: right;\n",
       "    }\n",
       "\n",
       "    .dataframe thead th {\n",
       "        text-align: left;\n",
       "    }\n",
       "\n",
       "    .dataframe tbody tr th {\n",
       "        vertical-align: top;\n",
       "    }\n",
       "</style>\n",
       "<table border=\"1\" class=\"dataframe\">\n",
       "  <thead>\n",
       "    <tr style=\"text-align: right;\">\n",
       "      <th></th>\n",
       "      <th>station_id</th>\n",
       "      <th>longitude</th>\n",
       "      <th>latitude</th>\n",
       "      <th>utc_time</th>\n",
       "      <th>temperature</th>\n",
       "      <th>pressure</th>\n",
       "      <th>humidity</th>\n",
       "      <th>wind_direction</th>\n",
       "      <th>wind_speed</th>\n",
       "      <th>weather</th>\n",
       "    </tr>\n",
       "  </thead>\n",
       "  <tbody>\n",
       "    <tr>\n",
       "      <th>0</th>\n",
       "      <td>shunyi_meo</td>\n",
       "      <td>116.615278</td>\n",
       "      <td>40.126667</td>\n",
       "      <td>2017-01-30 16:00:00</td>\n",
       "      <td>-1.7</td>\n",
       "      <td>1028.7</td>\n",
       "      <td>15</td>\n",
       "      <td>215.0</td>\n",
       "      <td>1.6</td>\n",
       "      <td>Sunny/clear</td>\n",
       "    </tr>\n",
       "    <tr>\n",
       "      <th>1</th>\n",
       "      <td>shunyi_meo</td>\n",
       "      <td>116.615278</td>\n",
       "      <td>40.126667</td>\n",
       "      <td>2017-01-30 17:00:00</td>\n",
       "      <td>-3.5</td>\n",
       "      <td>1028.4</td>\n",
       "      <td>24</td>\n",
       "      <td>16.0</td>\n",
       "      <td>1.0</td>\n",
       "      <td>Haze</td>\n",
       "    </tr>\n",
       "    <tr>\n",
       "      <th>2</th>\n",
       "      <td>shunyi_meo</td>\n",
       "      <td>116.615278</td>\n",
       "      <td>40.126667</td>\n",
       "      <td>2017-01-30 18:00:00</td>\n",
       "      <td>-3.7</td>\n",
       "      <td>1028.1</td>\n",
       "      <td>27</td>\n",
       "      <td>32.0</td>\n",
       "      <td>1.1</td>\n",
       "      <td>Haze</td>\n",
       "    </tr>\n",
       "    <tr>\n",
       "      <th>3</th>\n",
       "      <td>shunyi_meo</td>\n",
       "      <td>116.615278</td>\n",
       "      <td>40.126667</td>\n",
       "      <td>2017-01-30 19:00:00</td>\n",
       "      <td>-3.9</td>\n",
       "      <td>1027.6</td>\n",
       "      <td>27</td>\n",
       "      <td>21.0</td>\n",
       "      <td>0.9</td>\n",
       "      <td>Haze</td>\n",
       "    </tr>\n",
       "    <tr>\n",
       "      <th>4</th>\n",
       "      <td>shunyi_meo</td>\n",
       "      <td>116.615278</td>\n",
       "      <td>40.126667</td>\n",
       "      <td>2017-01-30 20:00:00</td>\n",
       "      <td>-4.1</td>\n",
       "      <td>1026.7</td>\n",
       "      <td>26</td>\n",
       "      <td>17.0</td>\n",
       "      <td>1.1</td>\n",
       "      <td>Haze</td>\n",
       "    </tr>\n",
       "  </tbody>\n",
       "</table>\n",
       "</div>"
      ],
      "text/plain": [
       "   station_id   longitude   latitude             utc_time  temperature  \\\n",
       "0  shunyi_meo  116.615278  40.126667  2017-01-30 16:00:00         -1.7   \n",
       "1  shunyi_meo  116.615278  40.126667  2017-01-30 17:00:00         -3.5   \n",
       "2  shunyi_meo  116.615278  40.126667  2017-01-30 18:00:00         -3.7   \n",
       "3  shunyi_meo  116.615278  40.126667  2017-01-30 19:00:00         -3.9   \n",
       "4  shunyi_meo  116.615278  40.126667  2017-01-30 20:00:00         -4.1   \n",
       "\n",
       "   pressure  humidity  wind_direction  wind_speed      weather  \n",
       "0    1028.7        15           215.0         1.6  Sunny/clear  \n",
       "1    1028.4        24            16.0         1.0         Haze  \n",
       "2    1028.1        27            32.0         1.1         Haze  \n",
       "3    1027.6        27            21.0         0.9         Haze  \n",
       "4    1026.7        26            17.0         1.1         Haze  "
      ]
     },
     "execution_count": 2,
     "metadata": {},
     "output_type": "execute_result"
    }
   ],
   "source": [
    "import pandas as pd\n",
    "# beijing polution\n",
    "p_bj_aq = '/home/lifuzhen/KDD2018/beijing_17_18_aq.csv'\n",
    "df_bj_aq = pd.read_csv(p_bj_aq)\n",
    "# beijing meo\n",
    "p_bj_meo = '/home/lifuzhen/KDD2018/beijing_17_18_meo.csv'\n",
    "df_bj_meo = pd.read_csv(p_bj_meo)\n",
    "# beijing meo grid\n",
    "p_bj_grid = '/home/lifuzhen/KDD2018/Beijing_historical_meo_grid.csv'\n",
    "df_bj_grid = pd.read_csv(p_bj_grid)\n",
    "# london meo grid\n",
    "p_ld_grid = '/home/lifuzhen/KDD2018/London_historical_meo_grid.csv'\n",
    "df_ld_grid = pd.read_csv(p_ld_grid)\n",
    "# london polution1\n",
    "p_ld_aq1 = '/home/liyouru/.ipython/profile_myserver/dataset/KDD_Cup2018/London_historical_aqi_forecast_stations_20180331.csv'\n",
    "df_ld_aq1 = pd.read_csv(p_ld_aq1)\n",
    "# london polution2\n",
    "p_ld_aq2 = '/home/liyouru/.ipython/profile_myserver/dataset/KDD_Cup2018/London_historical_aqi_other_stations_20180331.csv'\n",
    "df_ld_aq2 = pd.read_csv(p_ld_aq2)\n",
    "\n",
    "df_bj_aq.describe()\n",
    "df_bj_meo.head()"
   ]
  },
  {
   "cell_type": "code",
   "execution_count": 3,
   "metadata": {},
   "outputs": [
    {
     "name": "stdout",
     "output_type": "stream",
     "text": [
      "(158047, 10)\n"
     ]
    },
    {
     "data": {
      "text/html": [
       "<div>\n",
       "<style>\n",
       "    .dataframe thead tr:only-child th {\n",
       "        text-align: right;\n",
       "    }\n",
       "\n",
       "    .dataframe thead th {\n",
       "        text-align: left;\n",
       "    }\n",
       "\n",
       "    .dataframe tbody tr th {\n",
       "        vertical-align: top;\n",
       "    }\n",
       "</style>\n",
       "<table border=\"1\" class=\"dataframe\">\n",
       "  <thead>\n",
       "    <tr style=\"text-align: right;\">\n",
       "      <th></th>\n",
       "      <th>longitude</th>\n",
       "      <th>latitude</th>\n",
       "      <th>temperature</th>\n",
       "      <th>pressure</th>\n",
       "      <th>humidity</th>\n",
       "      <th>wind_direction</th>\n",
       "      <th>wind_speed</th>\n",
       "    </tr>\n",
       "  </thead>\n",
       "  <tbody>\n",
       "    <tr>\n",
       "      <th>count</th>\n",
       "      <td>158047.000000</td>\n",
       "      <td>158047.000000</td>\n",
       "      <td>158047.000000</td>\n",
       "      <td>158047.000000</td>\n",
       "      <td>158047.000000</td>\n",
       "      <td>157813.000000</td>\n",
       "      <td>157813.000000</td>\n",
       "    </tr>\n",
       "    <tr>\n",
       "      <th>mean</th>\n",
       "      <td>116.395672</td>\n",
       "      <td>40.047275</td>\n",
       "      <td>38.182775</td>\n",
       "      <td>1026.798200</td>\n",
       "      <td>354.312894</td>\n",
       "      <td>35487.471178</td>\n",
       "      <td>96.933881</td>\n",
       "    </tr>\n",
       "    <tr>\n",
       "      <th>std</th>\n",
       "      <td>0.395223</td>\n",
       "      <td>0.264798</td>\n",
       "      <td>5030.694816</td>\n",
       "      <td>5025.748455</td>\n",
       "      <td>17423.723518</td>\n",
       "      <td>184454.823456</td>\n",
       "      <td>9748.857634</td>\n",
       "    </tr>\n",
       "    <tr>\n",
       "      <th>min</th>\n",
       "      <td>115.692222</td>\n",
       "      <td>39.718611</td>\n",
       "      <td>-21.300000</td>\n",
       "      <td>940.000000</td>\n",
       "      <td>4.000000</td>\n",
       "      <td>0.000000</td>\n",
       "      <td>0.000000</td>\n",
       "    </tr>\n",
       "    <tr>\n",
       "      <th>25%</th>\n",
       "      <td>116.194167</td>\n",
       "      <td>39.847500</td>\n",
       "      <td>2.500000</td>\n",
       "      <td>994.200000</td>\n",
       "      <td>27.000000</td>\n",
       "      <td>78.000000</td>\n",
       "      <td>0.900000</td>\n",
       "    </tr>\n",
       "    <tr>\n",
       "      <th>50%</th>\n",
       "      <td>116.290556</td>\n",
       "      <td>39.973889</td>\n",
       "      <td>13.800000</td>\n",
       "      <td>1005.600000</td>\n",
       "      <td>48.000000</td>\n",
       "      <td>190.000000</td>\n",
       "      <td>1.500000</td>\n",
       "    </tr>\n",
       "    <tr>\n",
       "      <th>75%</th>\n",
       "      <td>116.626944</td>\n",
       "      <td>40.223333</td>\n",
       "      <td>23.200000</td>\n",
       "      <td>1016.900000</td>\n",
       "      <td>73.000000</td>\n",
       "      <td>280.000000</td>\n",
       "      <td>2.500000</td>\n",
       "    </tr>\n",
       "    <tr>\n",
       "      <th>max</th>\n",
       "      <td>117.117778</td>\n",
       "      <td>40.658889</td>\n",
       "      <td>999999.000000</td>\n",
       "      <td>999999.000000</td>\n",
       "      <td>999999.000000</td>\n",
       "      <td>999999.000000</td>\n",
       "      <td>999999.000000</td>\n",
       "    </tr>\n",
       "  </tbody>\n",
       "</table>\n",
       "</div>"
      ],
      "text/plain": [
       "           longitude       latitude    temperature       pressure  \\\n",
       "count  158047.000000  158047.000000  158047.000000  158047.000000   \n",
       "mean      116.395672      40.047275      38.182775    1026.798200   \n",
       "std         0.395223       0.264798    5030.694816    5025.748455   \n",
       "min       115.692222      39.718611     -21.300000     940.000000   \n",
       "25%       116.194167      39.847500       2.500000     994.200000   \n",
       "50%       116.290556      39.973889      13.800000    1005.600000   \n",
       "75%       116.626944      40.223333      23.200000    1016.900000   \n",
       "max       117.117778      40.658889  999999.000000  999999.000000   \n",
       "\n",
       "            humidity  wind_direction     wind_speed  \n",
       "count  158047.000000   157813.000000  157813.000000  \n",
       "mean      354.312894    35487.471178      96.933881  \n",
       "std     17423.723518   184454.823456    9748.857634  \n",
       "min         4.000000        0.000000       0.000000  \n",
       "25%        27.000000       78.000000       0.900000  \n",
       "50%        48.000000      190.000000       1.500000  \n",
       "75%        73.000000      280.000000       2.500000  \n",
       "max    999999.000000   999999.000000  999999.000000  "
      ]
     },
     "execution_count": 3,
     "metadata": {},
     "output_type": "execute_result"
    }
   ],
   "source": [
    "longitude = list(df_bj_meo['longitude'])\n",
    "latitude = list(df_bj_meo['latitude'])\n",
    "utc_time = list(df_bj_meo['utc_time'])\n",
    "wind_direction = list(df_bj_meo['wind_direction'])\n",
    "wind_speed = list(df_bj_meo['wind_speed'])\n",
    "temperature = list(df_bj_meo['temperature'])\n",
    "pressure = list(df_bj_meo['pressure'])\n",
    "humidity = list(df_bj_meo['humidity'])\n",
    "\n",
    "print df_bj_meo.shape\n",
    "df_bj_meo.describe()"
   ]
  },
  {
   "cell_type": "markdown",
   "metadata": {},
   "source": [
    "# 利用网格数据对观北京测点气象数据进行补全"
   ]
  },
  {
   "cell_type": "code",
   "execution_count": 4,
   "metadata": {},
   "outputs": [
    {
     "name": "stderr",
     "output_type": "stream",
     "text": [
      "100%|██████████| 7034706/7034706 [00:44<00:00, 157189.49it/s]\n"
     ]
    }
   ],
   "source": [
    "from tqdm import tqdm \n",
    "\n",
    "bj_grid_meo = {}\n",
    "\n",
    "g_longitude = list(df_bj_grid['longitude'])\n",
    "g_latitude = list(df_bj_grid['latitude'])\n",
    "g_utc_time = list(df_bj_grid['utc_time'])\n",
    "g_temperature = list(df_bj_grid['temperature'])\n",
    "g_pressure = list(df_bj_grid['pressure'])\n",
    "g_humidity = list(df_bj_grid['humidity'])\n",
    "g_wind_drirection = list(df_bj_grid['wind_direction'])\n",
    "g_wind_speed = list(df_bj_grid['wind_speed/kph'])\n",
    "\n",
    "for i in tqdm(range(7034706)):\n",
    "    t_key = str(g_longitude[i]) + str(g_latitude[i]) + str(g_utc_time[i])\n",
    "    bj_grid_meo.setdefault(t_key,[]).append(g_temperature[i])\n",
    "    bj_grid_meo.setdefault(t_key,[]).append(g_pressure[i])\n",
    "    bj_grid_meo.setdefault(t_key,[]).append(g_humidity[i])\n",
    "    bj_grid_meo.setdefault(t_key,[]).append(g_wind_drirection[i])\n",
    "    bj_grid_meo.setdefault(t_key,[]).append(g_wind_speed[i])"
   ]
  },
  {
   "cell_type": "code",
   "execution_count": 5,
   "metadata": {},
   "outputs": [
    {
     "name": "stderr",
     "output_type": "stream",
     "text": [
      "100%|██████████| 158047/158047 [00:00<00:00, 206907.91it/s]\n"
     ]
    }
   ],
   "source": [
    "import numpy as np\n",
    "\n",
    "for i in tqdm(range(len(temperature))):\n",
    "    if np.isnan(wind_direction[i]) or wind_direction[i] > 360:\n",
    "        t_key = str(round(longitude[i],1)) + str(round(latitude[i],1)) + str(utc_time[i])\n",
    "        wind_direction[i] = bj_grid_meo[t_key][3]\n",
    "    if np.isnan(wind_speed[i]) or wind_speed[i] > 100:\n",
    "        t_key = str(round(longitude[i],1)) + str(round(latitude[i],1)) + str(utc_time[i])\n",
    "        wind_speed[i] = bj_grid_meo[t_key][4]\n",
    "    if temperature[i] > 50:\n",
    "        t_key = str(round(longitude[i],1)) + str(round(latitude[i],1)) + str(utc_time[i])\n",
    "        temperature[i] = bj_grid_meo[t_key][0]\n",
    "    if pressure[i] == 999999:\n",
    "        t_key = str(round(longitude[i],1)) + str(round(latitude[i],1)) + str(utc_time[i])\n",
    "        pressure[i] = bj_grid_meo[t_key][1]\n",
    "    if humidity[i] == 999999:\n",
    "        t_key = str(round(longitude[i],1)) + str(round(latitude[i],1)) + str(utc_time[i])\n",
    "        humidity[i] = bj_grid_meo[t_key][2]"
   ]
  },
  {
   "cell_type": "code",
   "execution_count": 6,
   "metadata": {},
   "outputs": [
    {
     "data": {
      "text/html": [
       "<div>\n",
       "<style>\n",
       "    .dataframe thead tr:only-child th {\n",
       "        text-align: right;\n",
       "    }\n",
       "\n",
       "    .dataframe thead th {\n",
       "        text-align: left;\n",
       "    }\n",
       "\n",
       "    .dataframe tbody tr th {\n",
       "        vertical-align: top;\n",
       "    }\n",
       "</style>\n",
       "<table border=\"1\" class=\"dataframe\">\n",
       "  <thead>\n",
       "    <tr style=\"text-align: right;\">\n",
       "      <th></th>\n",
       "      <th>station_id</th>\n",
       "      <th>longitude</th>\n",
       "      <th>latitude</th>\n",
       "      <th>utc_time</th>\n",
       "      <th>temperature</th>\n",
       "      <th>pressure</th>\n",
       "      <th>humidity</th>\n",
       "      <th>wind_direction</th>\n",
       "      <th>wind_speed</th>\n",
       "      <th>weather</th>\n",
       "    </tr>\n",
       "  </thead>\n",
       "  <tbody>\n",
       "    <tr>\n",
       "      <th>0</th>\n",
       "      <td>shunyi_meo</td>\n",
       "      <td>116.615277778</td>\n",
       "      <td>40.1266666667</td>\n",
       "      <td>2017-01-30 16:00:00</td>\n",
       "      <td>-1.7</td>\n",
       "      <td>1028.7</td>\n",
       "      <td>15</td>\n",
       "      <td>215.0</td>\n",
       "      <td>1.6</td>\n",
       "      <td>Sunny/clear</td>\n",
       "    </tr>\n",
       "    <tr>\n",
       "      <th>1</th>\n",
       "      <td>shunyi_meo</td>\n",
       "      <td>116.615277778</td>\n",
       "      <td>40.1266666667</td>\n",
       "      <td>2017-01-30 17:00:00</td>\n",
       "      <td>-3.5</td>\n",
       "      <td>1028.4</td>\n",
       "      <td>24</td>\n",
       "      <td>16.0</td>\n",
       "      <td>1.0</td>\n",
       "      <td>Haze</td>\n",
       "    </tr>\n",
       "    <tr>\n",
       "      <th>2</th>\n",
       "      <td>shunyi_meo</td>\n",
       "      <td>116.615277778</td>\n",
       "      <td>40.1266666667</td>\n",
       "      <td>2017-01-30 18:00:00</td>\n",
       "      <td>-3.7</td>\n",
       "      <td>1028.1</td>\n",
       "      <td>27</td>\n",
       "      <td>32.0</td>\n",
       "      <td>1.1</td>\n",
       "      <td>Haze</td>\n",
       "    </tr>\n",
       "    <tr>\n",
       "      <th>3</th>\n",
       "      <td>shunyi_meo</td>\n",
       "      <td>116.615277778</td>\n",
       "      <td>40.1266666667</td>\n",
       "      <td>2017-01-30 19:00:00</td>\n",
       "      <td>-3.9</td>\n",
       "      <td>1027.6</td>\n",
       "      <td>27</td>\n",
       "      <td>21.0</td>\n",
       "      <td>0.9</td>\n",
       "      <td>Haze</td>\n",
       "    </tr>\n",
       "    <tr>\n",
       "      <th>4</th>\n",
       "      <td>shunyi_meo</td>\n",
       "      <td>116.615277778</td>\n",
       "      <td>40.1266666667</td>\n",
       "      <td>2017-01-30 20:00:00</td>\n",
       "      <td>-4.1</td>\n",
       "      <td>1026.7</td>\n",
       "      <td>26</td>\n",
       "      <td>17.0</td>\n",
       "      <td>1.1</td>\n",
       "      <td>Haze</td>\n",
       "    </tr>\n",
       "  </tbody>\n",
       "</table>\n",
       "</div>"
      ],
      "text/plain": [
       "   station_id      longitude       latitude             utc_time temperature  \\\n",
       "0  shunyi_meo  116.615277778  40.1266666667  2017-01-30 16:00:00        -1.7   \n",
       "1  shunyi_meo  116.615277778  40.1266666667  2017-01-30 17:00:00        -3.5   \n",
       "2  shunyi_meo  116.615277778  40.1266666667  2017-01-30 18:00:00        -3.7   \n",
       "3  shunyi_meo  116.615277778  40.1266666667  2017-01-30 19:00:00        -3.9   \n",
       "4  shunyi_meo  116.615277778  40.1266666667  2017-01-30 20:00:00        -4.1   \n",
       "\n",
       "  pressure humidity wind_direction wind_speed      weather  \n",
       "0   1028.7       15          215.0        1.6  Sunny/clear  \n",
       "1   1028.4       24           16.0        1.0         Haze  \n",
       "2   1028.1       27           32.0        1.1         Haze  \n",
       "3   1027.6       27           21.0        0.9         Haze  \n",
       "4   1026.7       26           17.0        1.1         Haze  "
      ]
     },
     "execution_count": 6,
     "metadata": {},
     "output_type": "execute_result"
    }
   ],
   "source": [
    "n_df_bj_meo = []\n",
    "n_df_bj_meo.append(list(df_bj_meo['station_id']))\n",
    "index = [longitude,latitude,utc_time,temperature,pressure,humidity,wind_direction,wind_speed]\n",
    "for each in index:\n",
    "    n_df_bj_meo.append(each)\n",
    "n_df_bj_meo.append(list(df_bj_meo['weather']))\n",
    "\n",
    "c_index = ['station_id','longitude','latitude','utc_time','temperature','pressure','humidity','wind_direction','wind_speed','weather']\n",
    "df_bj_meo_full = pd.DataFrame(np.transpose(n_df_bj_meo) ,index = None, columns = c_index)\n",
    "\n",
    "p_bj_meo_full = '/home/liyouru/.ipython/profile_myserver/dataset/KDD_Cup2018/'\n",
    "df_bj_meo_full.to_csv(p_bj_meo_full + 'beijing_17_18_meo_full.csv')\n",
    "\n",
    "df_bj_meo_full.head()"
   ]
  },
  {
   "cell_type": "markdown",
   "metadata": {},
   "source": [
    "# 利用网格数据生成伦敦观测点气象数据"
   ]
  },
  {
   "cell_type": "code",
   "execution_count": 8,
   "metadata": {},
   "outputs": [],
   "source": [
    "p_ld_stp = '/home/liyouru/.ipython/profile_myserver/dataset/KDD_Cup2018/london_station_position.csv'\n",
    "df_ld_stp = pd.read_csv(p_ld_stp)\n",
    "\n",
    "stp_longitude = list(df_ld_stp['Longitude'])\n",
    "stp_latitude = list(df_ld_stp['Latitude'])\n",
    "stp_station_id = list(df_ld_stp['Station_id'])"
   ]
  },
  {
   "cell_type": "code",
   "execution_count": 9,
   "metadata": {},
   "outputs": [
    {
     "name": "stderr",
     "output_type": "stream",
     "text": [
      "100%|██████████| 13/13 [00:00<00:00, 146.55it/s]\n"
     ]
    }
   ],
   "source": [
    "from tqdm import tqdm\n",
    "# 按照坐标分组\n",
    "df = pd.read_csv('/home/liyouru/.ipython/profile_myserver/dataset/KDD_Cup2018/daily_data/ld_grid_meo/m_04_60.csv')\n",
    "ld_meo_gen = []\n",
    "ld_meo = df.groupby([\"longitude\",\"latitude\"])\n",
    "for i in tqdm(range(13)):\n",
    "    ld_meo_gen.append(ld_meo.get_group((round(stp_longitude[i],1),round(stp_latitude[i],1))).drop(['stationName'],axis=1))\n",
    "\n",
    "# 按坐标对应的网格数据生成观测点气象数据\n",
    "p_ld_meo_gen = '/home/liyouru/.ipython/profile_myserver/dataset/KDD_Cup2018/ld_meo_gen/'\n",
    "for i in range(13):\n",
    "    ld_meo_gen[i].to_csv(p_ld_meo_gen + 'n_london_17_18_meo_gen_' + str(stp_station_id[i]) + '.csv')"
   ]
  },
  {
   "cell_type": "markdown",
   "metadata": {},
   "source": [
    "# 利用网格数据生成北京其他观测点的气象数据"
   ]
  },
  {
   "cell_type": "code",
   "execution_count": 12,
   "metadata": {},
   "outputs": [
    {
     "name": "stderr",
     "output_type": "stream",
     "text": [
      "100%|██████████| 35/35 [00:00<00:00, 316.11it/s]\n"
     ]
    }
   ],
   "source": [
    "p_bj_stp = '/home/liyouru/.ipython/profile_myserver/dataset/KDD_Cup2018/bj_station_position.csv'\n",
    "df_bj_stp = pd.read_csv(p_bj_stp)\n",
    "\n",
    "stp_longitude = list(df_bj_stp['longitude'])\n",
    "stp_latitude = list(df_bj_stp['latitude'])\n",
    "stp_station_id = list(df_bj_stp['stationId'])\n",
    "\n",
    "# 按照坐标分组\n",
    "df1 = pd.read_csv('/home/liyouru/.ipython/profile_myserver/dataset/KDD_Cup2018/daily_data/bj_grid_meo/m_04_60.csv')\n",
    "bj_meo_gen = []\n",
    "bj_meo = df1.groupby([\"longitude\",\"latitude\"])\n",
    "for i in tqdm(range(35)):\n",
    "    bj_meo_gen.append(bj_meo.get_group((round(stp_longitude[i],1),round(stp_latitude[i],1))).drop(['stationName'],axis=1))\n",
    "\n",
    "# 按坐标对应的网格数据生成观测点气象数据\n",
    "p_bj_meo_gen = '/home/liyouru/.ipython/profile_myserver/dataset/KDD_Cup2018/bj_meo_gen/'\n",
    "for i in range(35):\n",
    "    bj_meo_gen[i].to_csv(p_bj_meo_gen + 'n_beijing_17_18_meo_gen_' + str(stp_station_id[i].split('_aq')[0]) + '.csv')"
   ]
  },
  {
   "cell_type": "markdown",
   "metadata": {},
   "source": [
    "# 缺失可视化"
   ]
  },
  {
   "cell_type": "code",
   "execution_count": 75,
   "metadata": {},
   "outputs": [
    {
     "name": "stdout",
     "output_type": "stream",
     "text": [
      "3\n"
     ]
    },
    {
     "data": {
      "image/png": "[encoded data removed]",
      "text/plain": [
       "<matplotlib.figure.Figure at 0x7f4e981122d0>"
      ]
     },
     "metadata": {},
     "output_type": "display_data"
    },
    {
     "data": {
      "image/png": "[encoded data removed]",
      "text/plain": [
       "<matplotlib.figure.Figure at 0x7f4d5e9d42d0>"
      ]
     },
     "metadata": {},
     "output_type": "display_data"
    },
    {
     "data": {
      "image/png": "[encoded data removed]",
      "text/plain": [
       "<matplotlib.figure.Figure at 0x7f4d5e9695d0>"
      ]
     },
     "metadata": {},
     "output_type": "display_data"
    }
   ],
   "source": [
    "import numpy as np\n",
    "import matplotlib.pyplot as plt\n",
    "\n",
    "PM25 = []\n",
    "PM25 = list(df_bj_aq['PM2.5'])\n",
    "PM10 = list(df_bj_aq['PM10'])\n",
    "NO2 = list(df_bj_aq['NO2'])\n",
    "data = [PM25,PM10,NO2]\n",
    "duration = []\n",
    "for each in data:\n",
    "    duration_temp = []\n",
    "    temp = 0\n",
    "    for i in range(len(each)):\n",
    "        if np.isnan(each[i]):\n",
    "            temp += 1\n",
    "        else:\n",
    "            if temp != 0:\n",
    "                duration_temp.append(temp)\n",
    "                temp = 0\n",
    "    duration.append(duration_temp)\n",
    "print len(duration)\n",
    "\n",
    "\n",
    "name = ['PM2.5','PM10','NO2']\n",
    "for i in range(3):\n",
    "    plt.plot(duration[i])\n",
    "    plt.title(name[i])\n",
    "    plt.show()"
   ]
  }
 ],
 "metadata": {
  "kernelspec": {
   "display_name": "Python 2",
   "language": "python",
   "name": "python2"
  },
  "language_info": {
   "codemirror_mode": {
    "name": "ipython",
    "version": 2
   },
   "file_extension": ".py",
   "mimetype": "text/x-python",
   "name": "python",
   "nbconvert_exporter": "python",
   "pygments_lexer": "ipython2",
   "version": "2.7.12"
  }
 },
 "nbformat": 4,
 "nbformat_minor": 2
}
